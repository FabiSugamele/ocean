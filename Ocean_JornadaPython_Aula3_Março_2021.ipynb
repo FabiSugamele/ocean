{
  "nbformat": 4,
  "nbformat_minor": 0,
  "metadata": {
    "colab": {
      "name": "Ocean_JornadaPython_Aula3_Março_2021.ipynb",
      "provenance": [],
      "authorship_tag": "ABX9TyPVV45mczC8xsFiolBUX/8q",
      "include_colab_link": true
    },
    "kernelspec": {
      "name": "python3",
      "display_name": "Python 3"
    }
  },
  "cells": [
    {
      "cell_type": "markdown",
      "metadata": {
        "id": "view-in-github",
        "colab_type": "text"
      },
      "source": [
        "<a href=\"https://colab.research.google.com/github/FabiSugamele/ocean/blob/main/Ocean_JornadaPython_Aula3_Mar%C3%A7o_2021.ipynb\" target=\"_parent\"><img src=\"https://colab.research.google.com/assets/colab-badge.svg\" alt=\"Open In Colab\"/></a>"
      ]
    },
    {
      "cell_type": "code",
      "metadata": {
        "id": "7veXSZEGKpwr",
        "colab": {
          "base_uri": "https://localhost:8080/",
          "height": 87
        },
        "outputId": "fc2624df-d663-4448-dc5b-cc8ac3c3e653"
      },
      "source": [
        "# Correção do exercício de ontem\n",
        "\n",
        "\"\"\"\n",
        "Exercício 13\n",
        "Nome: Convertendo Celsius/Fahrenheit\n",
        "Objetivo: Escrever duas funções de conversão, uma de graus celsius em fahrenheit e a outra que faça o contrário.\n",
        "Dificuldade: Principiante\n",
        "1 - Crie um aplicativo de conversão entre as temperaturas Celsius e Fahrenheit.\n",
        "2 - Primeiro o usuário deve escolher se vai entrar com a temperatura em Celsius ou Fahrenheit, depois a conversão escolhida é realizada.\n",
        "3 - Se C é a temperatura em Celsius e F em Fahrenheit, as fórmulas de conversão são:\n",
        "F = (9 * C / 5) + 32\n",
        "C = 5 * (F - 32) / 9\n",
        "\"\"\""
      ],
      "execution_count": null,
      "outputs": [
        {
          "output_type": "execute_result",
          "data": {
            "application/vnd.google.colaboratory.intrinsic+json": {
              "type": "string"
            },
            "text/plain": [
              "'\\nExercício 13\\nNome: Convertendo Celsius/Fahrenheit\\nObjetivo: Escrever duas funções de conversão, uma de graus celsius em fahrenheit e a outra que faça o contrário.\\nDificuldade: Principiante\\n1 - Crie um aplicativo de conversão entre as temperaturas Celsius e Fahrenheit.\\n2 - Primeiro o usuário deve escolher se vai entrar com a temperatura em Celsius ou Fahrenheit, depois a conversão escolhida é realizada.\\n3 - Se C é a temperatura em Celsius e F em Fahrenheit, as fórmulas de conversão são:\\nF = (9 * C / 5) + 32\\nC = 5 * (F - 32) / 9\\n'"
            ]
          },
          "metadata": {
            "tags": []
          },
          "execution_count": 1
        }
      ]
    },
    {
      "cell_type": "code",
      "metadata": {
        "colab": {
          "base_uri": "https://localhost:8080/"
        },
        "id": "PX7rZrNl8zMy",
        "outputId": "ffd5f0bd-5467-4deb-e86b-7f353fed7da3"
      },
      "source": [
        "# Declaração\n",
        "def teste(celsius, fahrenheit):\n",
        "  F = (9 * celsius / 5) + 32\n",
        "  print(f\"{celsius}ºC = {F}ºF\")\n",
        "\n",
        "  C = 5 * (fahrenheit - 32) / 9\n",
        "  print(f\"{fahrenheit}ºF = {C}ºC\")\n",
        "\n",
        "# Execução\n",
        "# teste(100, 212)\n",
        "\n",
        "\n",
        "\n",
        "# Declaração\n",
        "def converter_de_celsius_para_fahrenheit(celsius): # A informação que entrar via argumento será nomeada pelo parâmetro 'celsius'\n",
        "  F = (9 * celsius / 5) + 32\n",
        "  print(f\"{celsius}ºC = {F}ºF\")\n",
        "\n",
        "# Execução\n",
        "converter_de_celsius_para_fahrenheit(0)\n",
        "\n",
        "# Declaração\n",
        "def converter_de_fahrenheit_para_celsius(fahrenheit): # A informação que entrar via argumento será nomeada pelo parâmetro 'fahrenheit'\n",
        "  C = 5 * (fahrenheit - 32) / 9\n",
        "  print(f\"{fahrenheit}ºF = {C}ºC\")\n",
        "\n",
        "# Execução\n",
        "converter_de_fahrenheit_para_celsius(32)"
      ],
      "execution_count": null,
      "outputs": [
        {
          "output_type": "stream",
          "text": [
            "0ºC = 32.0ºF\n",
            "32ºF = 0.0ºC\n"
          ],
          "name": "stdout"
        }
      ]
    },
    {
      "cell_type": "code",
      "metadata": {
        "colab": {
          "base_uri": "https://localhost:8080/"
        },
        "id": "YeFFc02q89py",
        "outputId": "20188365-8e90-48c2-dc5f-7c4079ecbd25"
      },
      "source": [
        "# Deixando o usuário escolher o que quer fazer\n",
        "\n",
        "escolha_usuario = input(\"Você quer converter para qual escala? ('C' para Celsius ou 'F' para Fahrenheit)\\n\")\n",
        "\n",
        "if escolha_usuario == \"C\":\n",
        "  escala = \"F\"\n",
        "elif escolha_usuario == \"F\":\n",
        "  escala = \"C\"\n",
        "\n",
        "temperatura = float(input(f\"Digite o valor da temperatura, em º{escala}:\"))\n",
        "\n",
        "# print(escolha_usuario, type(escolha_usuario))\n",
        "# print(temperatura, type(temperatura))\n",
        "\n",
        "if escolha_usuario == \"C\":\n",
        "  # print(\"Usuário escolheu Celsius\")\n",
        "  # print(\"Converter usando a temperatura:\", temperatura)\n",
        "  converter_de_fahrenheit_para_celsius(temperatura) # Temperatura entra como argumento\n",
        "elif escolha_usuario == \"F\":\n",
        "  # print(\"Usuário escolheu Fahrenheit\")\n",
        "  # print(\"Converter usando a temperatura:\", temperatura)\n",
        "  converter_de_celsius_para_fahrenheit(temperatura) # Temperatura entra como argumento"
      ],
      "execution_count": null,
      "outputs": [
        {
          "output_type": "stream",
          "text": [
            "Você quer converter para qual escala? ('C' para Celsius ou 'F' para Fahrenheit)\n",
            "C\n",
            "Digite o valor da temperatura, em ºF:10\n",
            "10.0ºF = -12.222222222222221ºC\n"
          ],
          "name": "stdout"
        }
      ]
    },
    {
      "cell_type": "code",
      "metadata": {
        "colab": {
          "base_uri": "https://localhost:8080/"
        },
        "id": "4rtBbGwE9HZM",
        "outputId": "25d57cb0-f1bb-48ca-dccd-57f3acb2f74c"
      },
      "source": [
        "\n",
        "def teste(a, b): # Parâmetro, que será o argumento recebido\n",
        "  print(\"Teste foi chamado\", a, b)\n",
        "\n",
        "teste(10, 20) # Argumento, que corresponde ao valor"
      ],
      "execution_count": null,
      "outputs": [
        {
          "output_type": "stream",
          "text": [
            "Teste foi chamado 10 20\n"
          ],
          "name": "stdout"
        }
      ]
    },
    {
      "cell_type": "code",
      "metadata": {
        "colab": {
          "base_uri": "https://localhost:8080/"
        },
        "id": "7BAp_Iaa9LyJ",
        "outputId": "fe3ca210-3836-482b-84a2-bc6039f70e47"
      },
      "source": [
        "\n",
        "# Funções com retorno\n",
        "\n",
        "def soma(a, b):\n",
        "  # print(f\"{a} + {b} = {a + b}\")\n",
        "\n",
        "  return a + b\n",
        "\n",
        "print(5, type(5))\n",
        "print(10, type(10))\n",
        "print(\"soma(5, 10)\", soma(5, 10), type(soma(5, 10)))\n",
        "\n",
        "resultado_soma1 = soma(5, 10)\n",
        "print(\"resultado_soma1\", resultado_soma1, type(resultado_soma1))\n",
        "\n",
        "resultado_soma2 = soma(10, 20)\n",
        "print(\"resultado_soma2\", resultado_soma2, type(resultado_soma2))\n",
        "\n",
        "resultado_final = soma(resultado_soma1, resultado_soma2)\n",
        "print(\"resultado_final\", resultado_final)"
      ],
      "execution_count": null,
      "outputs": [
        {
          "output_type": "stream",
          "text": [
            "5 <class 'int'>\n",
            "10 <class 'int'>\n",
            "soma(5, 10) 15 <class 'int'>\n",
            "resultado_soma1 15 <class 'int'>\n",
            "resultado_soma2 30 <class 'int'>\n",
            "resultado_final 45\n"
          ],
          "name": "stdout"
        }
      ]
    },
    {
      "cell_type": "code",
      "metadata": {
        "id": "ownQ-xtY9PoH"
      },
      "source": [
        "def calculadora(a, b):\n",
        "  return a + b\n",
        "\n",
        "def monitor(informacao):\n",
        "  print(informacao)\n",
        "\n",
        "def enviar_para_impressora(informacao):\n",
        "  print(\"Print Page A4:\", informacao)\n",
        "\n",
        "def programa():\n",
        "  resultado = calculcadora(10, 20)\n",
        "  enviar_para_monitor(resultado)\n",
        "\n",
        "  enviar_para_impressora(resultado)"
      ],
      "execution_count": null,
      "outputs": []
    },
    {
      "cell_type": "code",
      "metadata": {
        "colab": {
          "base_uri": "https://localhost:8080/"
        },
        "id": "fCUY9ian9fNw",
        "outputId": "bf6828ac-e4d2-466e-f9cd-31569c5e8a51"
      },
      "source": [
        "# Lista\n",
        "\n",
        "#         Valores da lista\n",
        "numeros = [5, 9, 10, 20, 40, 80, 120, 300, 500, 900, 1000]\n",
        "# Índices [0, 1,  2,  3,  4,  5,   6]\n",
        "\n",
        "print(numeros, type(numeros))\n",
        "\n",
        "primeiro_numero = numeros[0]\n",
        "print(\"Primeiro número:\", primeiro_numero, type(primeiro_numero))\n",
        "\n",
        "quantidade_numeros = len(numeros)\n",
        "print(\"Quantidade de números:\", quantidade_numeros, type(quantidade_numeros))\n",
        "\n",
        "ultimo_indice = quantidade_numeros - 1\n",
        "ultimo_numero = numeros[ultimo_indice]\n",
        "print(\"Último número:\", ultimo_numero, type(ultimo_numero))"
      ],
      "execution_count": null,
      "outputs": [
        {
          "output_type": "stream",
          "text": [
            "[5, 9, 10, 20, 40, 80, 120, 300, 500, 900, 1000] <class 'list'>\n",
            "Primeiro número: 5 <class 'int'>\n",
            "Quantidade de números: 11 <class 'int'>\n",
            "Último número: 1000 <class 'int'>\n"
          ],
          "name": "stdout"
        }
      ]
    },
    {
      "cell_type": "code",
      "metadata": {
        "colab": {
          "base_uri": "https://localhost:8080/"
        },
        "id": "wlZ9UInE9jQT",
        "outputId": "2d703af6-e57d-4b59-b221-0b3e1eb677dc"
      },
      "source": [
        "# Abreviando a maneira de pegar o último número\n",
        "\n",
        "numeros = [5, 9, 10, 20]\n",
        "#         [0, 1,  2,  3]\n",
        "\n",
        "ultimo_numero = numeros[len(numeros) - 1]\n",
        "print(\"Último número:\", ultimo_numero)\n",
        "\n",
        "# Podemos também remover o len() e deixar apenas o '-1' que o Python faz pra gente\n",
        "ultimo_numero = numeros[-1]\n",
        "print(\"Último número:\", ultimo_numero)"
      ],
      "execution_count": null,
      "outputs": [
        {
          "output_type": "stream",
          "text": [
            "Último número: 20\n",
            "Último número: 20\n"
          ],
          "name": "stdout"
        }
      ]
    },
    {
      "cell_type": "code",
      "metadata": {
        "colab": {
          "base_uri": "https://localhost:8080/"
        },
        "id": "G21z4wZR9l8M",
        "outputId": "71242fdf-faa3-4b0e-a5ee-9e541c25df01"
      },
      "source": [
        "# Mudando os valores de uma lista\n",
        "\n",
        "numeros = [5, 9, 10, 20]\n",
        "\n",
        "print(\"Primeiro número:\", numeros[0], numeros)\n",
        "print(\"Último número:\", numeros[-1], numeros)\n",
        "\n",
        "numeros[0] = 90\n",
        "\n",
        "print(\"Primeiro número alterado:\", numeros[0], numeros)\n",
        "\n",
        "numeros[-1] = 15\n",
        "\n",
        "print(\"Último número alterado:\", numeros[-1], numeros)"
      ],
      "execution_count": null,
      "outputs": [
        {
          "output_type": "stream",
          "text": [
            "Primeiro número: 5 [5, 9, 10, 20]\n",
            "Último número: 20 [5, 9, 10, 20]\n",
            "Primeiro número alterado: 90 [90, 9, 10, 20]\n",
            "Último número alterado: 15 [90, 9, 10, 15]\n"
          ],
          "name": "stdout"
        }
      ]
    },
    {
      "cell_type": "code",
      "metadata": {
        "colab": {
          "base_uri": "https://localhost:8080/"
        },
        "id": "UHAG9TlP9oUc",
        "outputId": "ce3f92ca-0eb0-4da3-a6f8-a8defa0a902f"
      },
      "source": [
        "numeros = [1, 11, 44, 67, 8, 9, 4]\n",
        "indice = int(input(\"Digite um índice: \"))\n",
        "\n",
        "numeros[indice] = 90\n",
        "\n",
        "print(numeros)"
      ],
      "execution_count": null,
      "outputs": [
        {
          "output_type": "stream",
          "text": [
            "Digite um índice: 1\n",
            "[1, 90, 44, 67, 8, 9, 4]\n"
          ],
          "name": "stdout"
        }
      ]
    },
    {
      "cell_type": "code",
      "metadata": {
        "colab": {
          "base_uri": "https://localhost:8080/"
        },
        "id": "0rE8jv-59sSB",
        "outputId": "d0a647e3-eef7-4aaf-fa86-a1ab8c2df2cd"
      },
      "source": [
        "# Listas vazias\n",
        "\n",
        "lista = []\n",
        "\n",
        "print(lista, len(lista), type(lista))"
      ],
      "execution_count": null,
      "outputs": [
        {
          "output_type": "stream",
          "text": [
            "[] 0 <class 'list'>\n"
          ],
          "name": "stdout"
        }
      ]
    },
    {
      "cell_type": "code",
      "metadata": {
        "colab": {
          "base_uri": "https://localhost:8080/"
        },
        "id": "Lpau-rpk9u7F",
        "outputId": "a6e0b78a-9e4a-43d3-e130-8f83610b4414"
      },
      "source": [
        "numeros = [12]\n",
        "\n",
        "print(numeros, len(numeros), type(numeros))"
      ],
      "execution_count": null,
      "outputs": [
        {
          "output_type": "stream",
          "text": [
            "[12] 1 <class 'list'>\n"
          ],
          "name": "stdout"
        }
      ]
    },
    {
      "cell_type": "code",
      "metadata": {
        "colab": {
          "base_uri": "https://localhost:8080/"
        },
        "id": "oQhFeTe59x5l",
        "outputId": "69b59178-0f8b-492d-ed4b-284f70174650"
      },
      "source": [
        "# Adicionando elementos na lista\n",
        "\n",
        "numeros = []\n",
        "\n",
        "print(numeros, len(numeros), type(numeros))\n",
        "\n",
        "numeros.append(10)\n",
        "numeros.append(80)\n",
        "numeros.append(7)\n",
        "numeros.append(12)\n",
        "numeros.append(19)\n",
        "numeros.insert(0, 999)\n",
        "\n",
        "print(numeros, len(numeros), type(numeros))"
      ],
      "execution_count": null,
      "outputs": [
        {
          "output_type": "stream",
          "text": [
            "[] 0 <class 'list'>\n",
            "[999, 10, 80, 7, 12, 19] 6 <class 'list'>\n"
          ],
          "name": "stdout"
        }
      ]
    },
    {
      "cell_type": "code",
      "metadata": {
        "colab": {
          "base_uri": "https://localhost:8080/"
        },
        "id": "0xIYLt__90jC",
        "outputId": "bc6f0790-ce6e-4857-ae69-abdfaf64fff9"
      },
      "source": [
        "numeros = [7, 6, 1]\n",
        "\n",
        "numeros.insert(3, 99)\n",
        "\n",
        "print(numeros, len(numeros), type(numeros))"
      ],
      "execution_count": null,
      "outputs": [
        {
          "output_type": "stream",
          "text": [
            "[7, 6, 1, 99] 4 <class 'list'>\n"
          ],
          "name": "stdout"
        }
      ]
    },
    {
      "cell_type": "code",
      "metadata": {
        "colab": {
          "base_uri": "https://localhost:8080/"
        },
        "id": "TWUqjT9G938h",
        "outputId": "220e003a-b29c-4b91-a1b3-b1d99b735b29"
      },
      "source": [
        "# Ordenando uma lista\n",
        "\n",
        "numeros = [9, 3, 4, 77, 1, 6, 5, 300, 20]\n",
        "\n",
        "numeros.sort(reverse=True)\n",
        "\n",
        "print(numeros)"
      ],
      "execution_count": null,
      "outputs": [
        {
          "output_type": "stream",
          "text": [
            "[300, 77, 20, 9, 6, 5, 4, 3, 1]\n"
          ],
          "name": "stdout"
        }
      ]
    },
    {
      "cell_type": "code",
      "metadata": {
        "colab": {
          "base_uri": "https://localhost:8080/"
        },
        "id": "gsElGmfi96Hr",
        "outputId": "9babd770-c74c-4e82-a922-110e0fb0a27f"
      },
      "source": [
        "# Visualizando todos os itens de uma lista\n",
        "# Declaração: 'for'\n",
        "\n",
        "numeros = [10, 90, 40, 30, 20, 50]\n",
        "\n",
        "for numero in numeros:\n",
        "  print(numero)"
      ],
      "execution_count": null,
      "outputs": [
        {
          "output_type": "stream",
          "text": [
            "10\n",
            "90\n",
            "40\n",
            "30\n",
            "20\n",
            "50\n"
          ],
          "name": "stdout"
        }
      ]
    },
    {
      "cell_type": "code",
      "metadata": {
        "colab": {
          "base_uri": "https://localhost:8080/"
        },
        "id": "UZTNMby099XB",
        "outputId": "0ad26410-82e2-4485-9d25-39f81d00acc8"
      },
      "source": [
        "# Visualizando todos os itens de uma lista\n",
        "# Declaração: 'for'\n",
        "\n",
        "# for valor in lista:\n",
        "#   Executo uma vez para cada valor.\n",
        "#   Em cada execução, a variável 'valor' possui uma informação diferente\n",
        "# Exemplo: Numa lista com [4, 12, 6]\n",
        "# Se tivermos: for valor in lista:\n",
        "# Temos na 'primeira' execução do for a informação '4' para a variável 'valor'\n",
        "# Temos na 'segunda' execução do for a informação '12' para a variável 'valor'\n",
        "# Temos na 'terceira' execução do for a informação '6' para a variável 'valor'\n",
        "\n",
        "numeros = [10, 90, 40, 30, 20, 50]\n",
        "numeros_em_dobro = []\n",
        "\n",
        "for numero in numeros:\n",
        "  # print(\"Início do for:\", numero, numeros, numeros_em_dobro)\n",
        "  numeros_em_dobro.append(numero * 2)\n",
        "  print(\"Execução do for para o número:\", f\"{numero} * 2 = {numero * 2}\", numeros_em_dobro)\n",
        "  # print()\n",
        "\n",
        "print(numeros)\n",
        "print(numeros_em_dobro)"
      ],
      "execution_count": null,
      "outputs": [
        {
          "output_type": "stream",
          "text": [
            "Execução do for para o número: 10 * 2 = 20 [20]\n",
            "Execução do for para o número: 90 * 2 = 180 [20, 180]\n",
            "Execução do for para o número: 40 * 2 = 80 [20, 180, 80]\n",
            "Execução do for para o número: 30 * 2 = 60 [20, 180, 80, 60]\n",
            "Execução do for para o número: 20 * 2 = 40 [20, 180, 80, 60, 40]\n",
            "Execução do for para o número: 50 * 2 = 100 [20, 180, 80, 60, 40, 100]\n",
            "[10, 90, 40, 30, 20, 50]\n",
            "[20, 180, 80, 60, 40, 100]\n"
          ],
          "name": "stdout"
        }
      ]
    },
    {
      "cell_type": "code",
      "metadata": {
        "colab": {
          "base_uri": "https://localhost:8080/"
        },
        "id": "mDgyCJL7-Ap0",
        "outputId": "2cedab59-d900-4fd1-ac64-ca11e2e20ef3"
      },
      "source": [
        "# For indexado, em que temos acesso ao índice de cada valor\n",
        "\n",
        "for indice in range(10):\n",
        "  print(indice)"
      ],
      "execution_count": null,
      "outputs": [
        {
          "output_type": "stream",
          "text": [
            "0\n",
            "1\n",
            "2\n",
            "3\n",
            "4\n",
            "5\n",
            "6\n",
            "7\n",
            "8\n",
            "9\n"
          ],
          "name": "stdout"
        }
      ]
    },
    {
      "cell_type": "code",
      "metadata": {
        "colab": {
          "base_uri": "https://localhost:8080/"
        },
        "id": "Z4wI_yCe-DF8",
        "outputId": "c49f6398-c17f-4101-df78-76aafb24bf1a"
      },
      "source": [
        "numeros = [9, 4, 3, 7, 5]\n",
        "# For indexado, em que temos acesso ao índice de cada valor\n",
        "\n",
        "for indice in range(len(numeros)):\n",
        "  numero = numeros[indice]\n",
        "  print(\"Índice\", indice, \"temos o valor\", numero)"
      ],
      "execution_count": null,
      "outputs": [
        {
          "output_type": "stream",
          "text": [
            "Índice 0 temos o valor 9\n",
            "Índice 1 temos o valor 4\n",
            "Índice 2 temos o valor 3\n",
            "Índice 3 temos o valor 7\n",
            "Índice 4 temos o valor 5\n"
          ],
          "name": "stdout"
        }
      ]
    },
    {
      "cell_type": "code",
      "metadata": {
        "colab": {
          "base_uri": "https://localhost:8080/"
        },
        "id": "zvJWCpXY-GTv",
        "outputId": "93e9724e-b475-4645-ad13-36c29b2a4155"
      },
      "source": [
        "# Encerrando o for de maneira forçada com o break\n",
        "\n",
        "numeros = [9, 4, 3, 7, 5]\n",
        "# For indexado, em que temos acesso ao índice de cada valor\n",
        "\n",
        "for indice in range(len(numeros)):\n",
        "  numero = numeros[indice]\n",
        "  print(\"Índice\", indice, \"temos o valor\", numero)\n",
        "\n",
        "  if indice == 2:\n",
        "    break"
      ],
      "execution_count": null,
      "outputs": [
        {
          "output_type": "stream",
          "text": [
            "Índice 0 temos o valor 9\n",
            "Índice 1 temos o valor 4\n",
            "Índice 2 temos o valor 3\n"
          ],
          "name": "stdout"
        }
      ]
    },
    {
      "cell_type": "code",
      "metadata": {
        "colab": {
          "base_uri": "https://localhost:8080/"
        },
        "id": "LJWCp0Gq-J1b",
        "outputId": "37b7c005-d29e-4670-f989-1b309cdc2b77"
      },
      "source": [
        "numeros = [7, 3, 9]\n",
        "indice = 1\n",
        "print(numeros[indice])"
      ],
      "execution_count": null,
      "outputs": [
        {
          "output_type": "stream",
          "text": [
            "3\n"
          ],
          "name": "stdout"
        }
      ]
    },
    {
      "cell_type": "code",
      "metadata": {
        "colab": {
          "base_uri": "https://localhost:8080/"
        },
        "id": "AUZNQdOh-M4U",
        "outputId": "b8205a0b-cf85-4108-eb14-a93fec7425fc"
      },
      "source": [
        "# Introduzindo um pouco do enumerate, explicaremos a seguir...\n",
        "\n",
        "numeros = [9, 12, 4, 7, 3]\n",
        "\n",
        "enum = enumerate(numeros)\n",
        "lista = list(enum)\n",
        "\n",
        "print(lista)"
      ],
      "execution_count": null,
      "outputs": [
        {
          "output_type": "stream",
          "text": [
            "[(0, 9), (1, 12), (2, 4), (3, 7), (4, 3)]\n"
          ],
          "name": "stdout"
        }
      ]
    },
    {
      "cell_type": "code",
      "metadata": {
        "colab": {
          "base_uri": "https://localhost:8080/"
        },
        "id": "1C9mIuEk-O5i",
        "outputId": "bcf9b738-0e53-44b6-e5e2-cdc6042fdfdd"
      },
      "source": [
        "# Tuplas -> Parecem muito com as listas\n",
        "\n",
        "tupla = (1, 5, 9, 7, 6)\n",
        "\n",
        "print(tupla, type(tupla))"
      ],
      "execution_count": null,
      "outputs": [
        {
          "output_type": "stream",
          "text": [
            "(1, 5, 9, 7, 6) <class 'tuple'>\n"
          ],
          "name": "stdout"
        }
      ]
    },
    {
      "cell_type": "code",
      "metadata": {
        "colab": {
          "base_uri": "https://localhost:8080/"
        },
        "id": "D_vrjhW4-RKD",
        "outputId": "133191df-0e90-475e-ba14-cce35c12e2a7"
      },
      "source": [
        "# Acessando elementos das tuplas\n",
        "\n",
        "numeros = (9, 7, 6, 3, 4, 65)\n",
        "\n",
        "primeiro_numero = numeros[0]\n",
        "\n",
        "print(primeiro_numero, type(primeiro_numero))"
      ],
      "execution_count": null,
      "outputs": [
        {
          "output_type": "stream",
          "text": [
            "9 <class 'int'>\n"
          ],
          "name": "stdout"
        }
      ]
    },
    {
      "cell_type": "code",
      "metadata": {
        "colab": {
          "base_uri": "https://localhost:8080/"
        },
        "id": "1GOlac9d-TXJ",
        "outputId": "791f1281-6213-44c6-f3eb-0f32d5a9189d"
      },
      "source": [
        "numeros = 9, 7, 6, 3, 4, 65\n",
        "\n",
        "print(numeros)"
      ],
      "execution_count": null,
      "outputs": [
        {
          "output_type": "stream",
          "text": [
            "(9, 7, 6, 3, 4, 65)\n"
          ],
          "name": "stdout"
        }
      ]
    },
    {
      "cell_type": "code",
      "metadata": {
        "colab": {
          "base_uri": "https://localhost:8080/"
        },
        "id": "6N3_bdxF-Vhc",
        "outputId": "0f69d727-1ffb-4bdf-8159-6d59d687d709"
      },
      "source": [
        "numeros = 5,7\n",
        "\n",
        "print(numeros, type(numeros))"
      ],
      "execution_count": null,
      "outputs": [
        {
          "output_type": "stream",
          "text": [
            "(5, 7) <class 'tuple'>\n"
          ],
          "name": "stdout"
        }
      ]
    },
    {
      "cell_type": "code",
      "metadata": {
        "colab": {
          "base_uri": "https://localhost:8080/"
        },
        "id": "Fk9_0xs2-X3L",
        "outputId": "c109899a-5a66-4d24-99ce-4a6261d4c2f5"
      },
      "source": [
        "numeros = 5,\n",
        "print(numeros, type(numeros))"
      ],
      "execution_count": null,
      "outputs": [
        {
          "output_type": "stream",
          "text": [
            "(5,) <class 'tuple'>\n"
          ],
          "name": "stdout"
        }
      ]
    },
    {
      "cell_type": "code",
      "metadata": {
        "colab": {
          "base_uri": "https://localhost:8080/"
        },
        "id": "TTc9d3ie-dA-",
        "outputId": "526a59aa-89cf-4ec1-8254-01d59d087280"
      },
      "source": [
        "tupla = (\"Paulo\", \"Salvatore\")\n",
        "\n",
        "print(tupla, type(tupla))\n",
        "\n",
        "nome = tupla[0]\n",
        "sobrenome = tupla[1]\n",
        "\n",
        "print(nome, type(nome))\n",
        "print(sobrenome, type(sobrenome))"
      ],
      "execution_count": null,
      "outputs": [
        {
          "output_type": "stream",
          "text": [
            "('Paulo', 'Salvatore') <class 'tuple'>\n",
            "Paulo <class 'str'>\n",
            "Salvatore <class 'str'>\n"
          ],
          "name": "stdout"
        }
      ]
    },
    {
      "cell_type": "code",
      "metadata": {
        "colab": {
          "base_uri": "https://localhost:8080/"
        },
        "id": "ppNVARKu-fln",
        "outputId": "98f7d97c-30e7-4393-8b7b-25e3f0146e63"
      },
      "source": [
        "# Desconstrução de tuplas\n",
        "\n",
        "nome, sobrenome = (\"Paulo\", \"Salvatore\")\n",
        "\n",
        "print(nome, type(nome))\n",
        "print(sobrenome, type(sobrenome))"
      ],
      "execution_count": null,
      "outputs": [
        {
          "output_type": "stream",
          "text": [
            "Paulo <class 'str'>\n",
            "Salvatore <class 'str'>\n"
          ],
          "name": "stdout"
        }
      ]
    },
    {
      "cell_type": "code",
      "metadata": {
        "colab": {
          "base_uri": "https://localhost:8080/"
        },
        "id": "O0_JS-Ba-i0U",
        "outputId": "9ecea103-cd6e-4725-ee67-9b5a820a1d5f"
      },
      "source": [
        "numeros = [30, 6, 1, 9, 6]\n",
        "\n",
        "enum = enumerate(numeros)\n",
        "\n",
        "lista = list(enum)\n",
        "\n",
        "# Transformo o enum em lista apenas para exibí-lo no print\n",
        "print(lista, type(lista))\n",
        "\n",
        "print(lista[0], type(lista[0]))\n",
        "\n",
        "indice, valor = lista[0]\n",
        "\n",
        "print(indice, valor, type(indice), type(valor))"
      ],
      "execution_count": null,
      "outputs": [
        {
          "output_type": "stream",
          "text": [
            "[(0, 30), (1, 6), (2, 1), (3, 9), (4, 6)] <class 'list'>\n",
            "(0, 30) <class 'tuple'>\n",
            "0 30 <class 'int'> <class 'int'>\n"
          ],
          "name": "stdout"
        }
      ]
    },
    {
      "cell_type": "code",
      "metadata": {
        "colab": {
          "base_uri": "https://localhost:8080/"
        },
        "id": "nazoc5Fd-lLj",
        "outputId": "eac0613d-482b-471a-9f28-cdac36f7d8d9"
      },
      "source": [
        "numeros = [9, 6, 7, 9, 2, 4, 3]\n",
        "\n",
        "for indice, valor in enumerate(numeros):\n",
        "  print(indice, valor)"
      ],
      "execution_count": null,
      "outputs": [
        {
          "output_type": "stream",
          "text": [
            "0 9\n",
            "1 6\n",
            "2 7\n",
            "3 9\n",
            "4 2\n",
            "5 4\n",
            "6 3\n"
          ],
          "name": "stdout"
        }
      ]
    },
    {
      "cell_type": "code",
      "metadata": {
        "colab": {
          "base_uri": "https://localhost:8080/"
        },
        "id": "_aqiwIB_-pUA",
        "outputId": "6f72cf65-aa3c-4307-855b-d566f0c27bd4"
      },
      "source": [
        "tupla = (5, 6, 9, 7, 3)\n",
        "\n",
        "print(tupla, type(tupla))\n",
        "\n",
        "# Transforma qualquer coisa em lista (desde que seja um tipo suportado)\n",
        "lista = list(tupla)\n",
        "\n",
        "lista[0] = 9\n",
        "\n",
        "print(lista)\n",
        "\n",
        "tupla = tuple(lista)\n",
        "\n",
        "print(tupla)"
      ],
      "execution_count": null,
      "outputs": [
        {
          "output_type": "stream",
          "text": [
            "(5, 6, 9, 7, 3) <class 'tuple'>\n",
            "[9, 6, 9, 7, 3]\n",
            "(9, 6, 9, 7, 3)\n"
          ],
          "name": "stdout"
        }
      ]
    },
    {
      "cell_type": "code",
      "metadata": {
        "colab": {
          "base_uri": "https://localhost:8080/"
        },
        "id": "DLCSlUS5-s3B",
        "outputId": "1f607ff5-a132-4f8f-83df-749ac4ac6d9f"
      },
      "source": [
        "numeros = [9, 6, 7, 8]\n",
        "\n",
        "enum = enumerate(numeros)\n",
        "\n",
        "lista = list(enum)\n",
        "\n",
        "primeiro_item_enum = lista[0]\n",
        "\n",
        "print(lista)"
      ],
      "execution_count": null,
      "outputs": [
        {
          "output_type": "stream",
          "text": [
            "[(0, 9), (1, 6), (2, 7), (3, 8)]\n"
          ],
          "name": "stdout"
        }
      ]
    },
    {
      "cell_type": "code",
      "metadata": {
        "colab": {
          "base_uri": "https://localhost:8080/"
        },
        "id": "Ba_KB0Ie-vIA",
        "outputId": "374670f1-3fef-4b8e-e120-3b233f05d3d7"
      },
      "source": [
        "numeros = [9, 6, 7, 9, 2, 4, 3]\n",
        "\n",
        "for indice, valor in enumerate(numeros):\n",
        "  print(indice, valor)"
      ],
      "execution_count": null,
      "outputs": [
        {
          "output_type": "stream",
          "text": [
            "0 9\n",
            "1 6\n",
            "2 7\n",
            "3 9\n",
            "4 2\n",
            "5 4\n",
            "6 3\n"
          ],
          "name": "stdout"
        }
      ]
    },
    {
      "cell_type": "code",
      "metadata": {
        "colab": {
          "base_uri": "https://localhost:8080/"
        },
        "id": "GNQcW2Y4-xY6",
        "outputId": "d6dd483c-ed5b-4c7c-8aaa-b89a858b29a5"
      },
      "source": [
        "tupla = 5, 6, 7, 6, 1, 9, 5, 2, 7, 3, 6\n",
        "\n",
        "print(sum(tupla))"
      ],
      "execution_count": null,
      "outputs": [
        {
          "output_type": "stream",
          "text": [
            "57\n"
          ],
          "name": "stdout"
        }
      ]
    },
    {
      "cell_type": "code",
      "metadata": {
        "colab": {
          "base_uri": "https://localhost:8080/"
        },
        "id": "Plf9axr3-1WV",
        "outputId": "6e807929-dc0b-4d10-f67b-57b842214e1e"
      },
      "source": [
        "\"\"\"\n",
        "From Rafael Bianco to Everyone:  04:17 PM\n",
        "professor se a lista for em string, como fazermos para clássicas em ordem alfabética?\n",
        "\"\"\"\n",
        "\n",
        "nomes = [\"Rafael\", \"Paulo\", \"Marina\", \"Mariana\", \"Gabriel\", \"Juliano\"]\n",
        "\n",
        "nomes.sort(reverse=True)\n",
        "\n",
        "print(nomes)"
      ],
      "execution_count": null,
      "outputs": [
        {
          "output_type": "stream",
          "text": [
            "['Rafael', 'Paulo', 'Marina', 'Mariana', 'Juliano', 'Gabriel']\n"
          ],
          "name": "stdout"
        }
      ]
    },
    {
      "cell_type": "code",
      "metadata": {
        "colab": {
          "base_uri": "https://localhost:8080/"
        },
        "id": "zwuLW94b-5OK",
        "outputId": "80cca1ea-7d19-4e4d-d2b5-0e1302983104"
      },
      "source": [
        "\"\"\"\n",
        "From Andrea Davi Carrer to Everyone:  04:01 PM\n",
        "e se eu quiser que ele incremente de 2 em 2?\n",
        "\"\"\"\n",
        "\n",
        "numeros = [10, 9, 6, 4, 7, 6, 6, 4, 1, 3, 9]\n",
        "\n",
        "for indice in range(0, len(numeros), 2):\n",
        "  print(indice)"
      ],
      "execution_count": null,
      "outputs": [
        {
          "output_type": "stream",
          "text": [
            "0\n",
            "2\n",
            "4\n",
            "6\n",
            "8\n",
            "10\n"
          ],
          "name": "stdout"
        }
      ]
    },
    {
      "cell_type": "code",
      "metadata": {
        "colab": {
          "base_uri": "https://localhost:8080/"
        },
        "id": "VVEfJPdK--0s",
        "outputId": "a2e7b2f6-486c-4eab-a94b-6e8969e0c5f0"
      },
      "source": [
        "\"\"\"\n",
        "From Guilherme Alarsa to Everyone:  03:47 PM\n",
        "e uma lista que tivesse um input pro usuário colocar os valores?\n",
        "\"\"\"\n",
        "\n",
        "numeros = []\n",
        "\n",
        "print(\"Digite 3 números...\")\n",
        "\n",
        "for indice in range(3):\n",
        "  numero = int(input(\"Digite um número: \"))\n",
        "  numeros.append(numero)\n",
        "\n",
        "print(\"Os números digitados foram:\", numeros)"
      ],
      "execution_count": null,
      "outputs": [
        {
          "output_type": "stream",
          "text": [
            "Digite 3 números...\n",
            "Digite um número: 7\n",
            "Digite um número: 21\n",
            "Digite um número: 24\n",
            "Os números digitados foram: [7, 21, 24]\n"
          ],
          "name": "stdout"
        }
      ]
    },
    {
      "cell_type": "code",
      "metadata": {
        "colab": {
          "base_uri": "https://localhost:8080/"
        },
        "id": "dcWBOoJZ_FWj",
        "outputId": "3ae60087-9780-4669-b266-7d187ee55791"
      },
      "source": [
        "# Dicionários\n",
        "# Quase iguais as listas\n",
        "# A única diferença é que podemos/devemos definir os índices\n",
        "\n",
        "# Enquanto a lista atribui índices sequenciais de maneira automática,\n",
        "# os dicionários precisam desse índice definido\n",
        "\n",
        "dicionario = {\"nome\": \"Fabiana\", \"sobrenome\": \"Sugamele\"}\n",
        "\n",
        "print(dicionario, type(dicionario))\n",
        "\n",
        "nome = dicionario[\"nome\"]\n",
        "print(nome, type(nome))\n",
        "\n",
        "sobrenome = dicionario[\"sobrenome\"]\n",
        "print(sobrenome, type(sobrenome))\n"
      ],
      "execution_count": null,
      "outputs": [
        {
          "output_type": "stream",
          "text": [
            "{'nome': 'Fabiana', 'sobrenome': 'Sugamele'} <class 'dict'>\n",
            "Fabiana <class 'str'>\n",
            "Sugamele <class 'str'>\n"
          ],
          "name": "stdout"
        }
      ]
    },
    {
      "cell_type": "code",
      "metadata": {
        "colab": {
          "base_uri": "https://localhost:8080/"
        },
        "id": "yI7u08Sm_Oj3",
        "outputId": "e874f3d7-5933-49c3-b9a7-165a1f85bae1"
      },
      "source": [
        "fabiana = {\n",
        "    \"nome\": \"Fabiana\",\n",
        "    \"sobrenome\": \"Sugamele\",\n",
        "}\n",
        "\n",
        "maria = {\n",
        "    \"nome\": \"Maria\",\n",
        "    \"sobrenome\": \"Santana\",\n",
        "}\n",
        "\n",
        "pedro = {\n",
        "    \"nome\": \"Pedro\",\n",
        "    \"sobrenome\": \"Oliveira\",\n",
        "}\n",
        "\n",
        "pessoas = [fabiana, maria, pedro]\n",
        "\n",
        "for pessoa in pessoas:\n",
        "  nome = pessoa[\"nome\"]\n",
        "  sobrenome = pessoa[\"sobrenome\"]\n",
        "\n",
        "  print(nome, sobrenome)\n",
        "\n",
        "# print(maria[\"nome\"], maria[\"sobrenome\"])\n",
        "# print(pedro[\"nome\"], pedro[\"sobrenome\"])"
      ],
      "execution_count": null,
      "outputs": [
        {
          "output_type": "stream",
          "text": [
            "Fabiana Sugamele\n",
            "Maria Santana\n",
            "Pedro Oliveira\n"
          ],
          "name": "stdout"
        }
      ]
    },
    {
      "cell_type": "markdown",
      "metadata": {
        "id": "pIgTJCKw_-YS"
      },
      "source": [
        "\n",
        "### Exercícios para praticar\n",
        "https://github.com/paulosalvatore/ExerciciosPython/blob/master/exercicios/exercicio14.py\n",
        "\n",
        "https://github.com/paulosalvatore/ExerciciosPython/blob/master/exercicios/exercicio16.py\n",
        "\n",
        "https://github.com/paulosalvatore/ExerciciosPython/blob/master/exercicios/exercicio19.py\n",
        "\n",
        "https://github.com/paulosalvatore/ExerciciosPython/blob/master/exercicios/exercicio23.py\n",
        "\n",
        "https://github.com/paulosalvatore/ExerciciosPython/blob/master/exercicios/exercicio25.py"
      ]
    },
    {
      "cell_type": "markdown",
      "metadata": {
        "id": "qatcNDHwAC2n"
      },
      "source": [
        "### Exercício bem completo¶\n",
        "https://github.com/paulosalvatore/ExerciciosPython/blob/master/exercicios/exercicio15.py"
      ]
    },
    {
      "cell_type": "markdown",
      "metadata": {
        "id": "qsYMC2R1AGXQ"
      },
      "source": [
        "### Exercício boss¶\n",
        "https://github.com/paulosalvatore/ExerciciosPython/blob/master/exercicios/exercicio26.py"
      ]
    }
  ]
}