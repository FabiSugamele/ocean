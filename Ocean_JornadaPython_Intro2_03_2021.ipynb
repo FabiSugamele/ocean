{
  "nbformat": 4,
  "nbformat_minor": 0,
  "metadata": {
    "colab": {
      "name": "Ocean_JornadaPython_Intro2_03_2021.ipynb",
      "provenance": [],
      "authorship_tag": "ABX9TyMVYlwyW5EJ0qGmyhDuMhCZ",
      "include_colab_link": true
    },
    "kernelspec": {
      "name": "python3",
      "display_name": "Python 3"
    }
  },
  "cells": [
    {
      "cell_type": "markdown",
      "metadata": {
        "id": "view-in-github",
        "colab_type": "text"
      },
      "source": [
        "<a href=\"https://colab.research.google.com/github/FabiSugamele/ocean/blob/main/Ocean_JornadaPython_Intro2_03_2021.ipynb\" target=\"_parent\"><img src=\"https://colab.research.google.com/assets/colab-badge.svg\" alt=\"Open In Colab\"/></a>"
      ]
    },
    {
      "cell_type": "markdown",
      "metadata": {
        "id": "Z2bdM_oGLdcz"
      },
      "source": [
        "\r\n",
        "## Exercício 2 - Input de Informações\r\n",
        "Objetivo: Receber dados do usuário, trabalhar com os valores e exibir para o usuário.\r\n",
        "\r\n",
        "Dificuldade: Principiante\r\n",
        "\r\n",
        "1 - Crie um programa que receba do usuário seu nome, idade e gênero;\r\n",
        "\r\n",
        "2 - Exiba na tela seguinte mensagem: \"Olá, {nome}, você possui {idade} anos de idade e é do gênero {genero}.\";\r\n",
        "\r\n",
        "3 - Exiba também: \"Já pensou no que você fará no seu aniversário de {idade + 1} anos?\".\r\n",
        "\r\n",
        "Adicionando uma pimentinha extra: \"Se o usuário digitar idade 1, exiba apenas \"ano\" em vez de \"anos\". \"\"\""
      ]
    },
    {
      "cell_type": "code",
      "metadata": {
        "colab": {
          "base_uri": "https://localhost:8080/"
        },
        "id": "HGs23qr7LhE5",
        "outputId": "f08c95f8-2cec-48e9-9545-2b2d8cdc49e9"
      },
      "source": [
        "nome = input(\"Qual o seu nome? \")\r\n",
        "idade = int(input(\"Quantos anos você tem? \"))\r\n",
        "genero = input(\"Informe o seu gênero: \")\r\n",
        "\r\n",
        "print(nome, idade, genero)\r\n",
        "\r\n",
        "print(f\"Olá, {nome}, você possui {idade} anos de idade e é do gênero {genero}.\")\r\n",
        "\r\n",
        "print(f\"Já pensou no que você fará no seu aniversário de {idade + 1} anos?\")"
      ],
      "execution_count": null,
      "outputs": [
        {
          "output_type": "stream",
          "text": [
            "Qual o seu nome? Maria\n",
            "Quantos anos você tem? 41\n",
            "Informe o seu gênero: feminino\n",
            "Maria 41 feminino\n",
            "Olá, Maria, você possui 41 anos de idade e é do gênero feminino.\n",
            "Já pensou no que você fará no seu aniversário de 42 anos?\n"
          ],
          "name": "stdout"
        }
      ]
    },
    {
      "cell_type": "code",
      "metadata": {
        "colab": {
          "base_uri": "https://localhost:8080/"
        },
        "id": "oKNF0215LtCd",
        "outputId": "4b991ab4-54c7-4a59-c611-57329d72c677"
      },
      "source": [
        "# Exemplo com a \"pimentinha extra\" resolvida\r\n",
        "\r\n",
        "nome = input(\"Qual o seu nome? \")\r\n",
        "idade = int(input(\"Quantos anos você tem? \"))\r\n",
        "genero = input(\"Informe o seu gênero: \")\r\n",
        "\r\n",
        "print(nome, idade, genero)\r\n",
        "\r\n",
        "print(f\"Olá, {nome}, você possui {idade} anos de idade e é do gênero {genero}.\")\r\n",
        "\r\n",
        "exibicao_anos = \"\"\r\n",
        "\r\n",
        "if idade > 1:\r\n",
        "  exibicao_anos = \"anos\"\r\n",
        "else:\r\n",
        "  exibicao_anos = \"ano\"\r\n",
        "\r\n",
        "print(f\"Já pensou no que você fará no seu aniversário de {idade + 1} {exibicao_anos}?\")"
      ],
      "execution_count": null,
      "outputs": [
        {
          "output_type": "stream",
          "text": [
            "Qual o seu nome? Marco\n",
            "Quantos anos você tem? 38\n",
            "Informe o seu gênero: masculino\n",
            "Marco 38 masculino\n",
            "Olá, Marco, você possui 38 anos de idade e é do gênero masculino.\n",
            "Já pensou no que você fará no seu aniversário de 39 anos?\n"
          ],
          "name": "stdout"
        }
      ]
    },
    {
      "cell_type": "code",
      "metadata": {
        "colab": {
          "base_uri": "https://localhost:8080/"
        },
        "id": "K02vhGXRRzcb",
        "outputId": "24d844f2-5b45-4474-e206-f6015f423184"
      },
      "source": [
        "# Introduzindo um pouco a utilidade das FUNÇÕES\r\n",
        "\r\n",
        "def formatar_exibicao_anos(valor):\r\n",
        "  if valor != 1:\r\n",
        "    return \"anos\"\r\n",
        "  else:\r\n",
        "    return \"ano\"\r\n",
        "\r\n",
        "\r\n",
        "# Exemplo com a \"pimentinha extra\" resolvida\r\n",
        "\r\n",
        "nome = input(\"Qual o seu nome? \")\r\n",
        "idade = int(input(\"Quantos anos você tem? \"))\r\n",
        "genero = input(\"Informe o seu gênero: \")\r\n",
        "\r\n",
        "print(nome, idade, genero)\r\n",
        "\r\n",
        "print(f\"Olá, {nome}, você possui {idade} {formatar_exibicao_anos(idade)} de idade e é do gênero {genero}.\")\r\n",
        "\r\n",
        "aniversario = idade + 1\r\n",
        "\r\n",
        "print(f\"Já pensou no que você fará no seu aniversário de {aniversario} {formatar_exibicao_anos(aniversario)}?\")"
      ],
      "execution_count": null,
      "outputs": [
        {
          "output_type": "stream",
          "text": [
            "Qual o seu nome? Miguel\n",
            "Quantos anos você tem? 5\n",
            "Informe o seu gênero: masculino\n",
            "Miguel 5 masculino\n",
            "Olá, Miguel, você possui 5 anos de idade e é do gênero masculino.\n",
            "Já pensou no que você fará no seu aniversário de 6 anos?\n"
          ],
          "name": "stdout"
        }
      ]
    },
    {
      "cell_type": "code",
      "metadata": {
        "colab": {
          "base_uri": "https://localhost:8080/"
        },
        "id": "z2q3jgaJR38K",
        "outputId": "a32e0f8f-bd94-4341-e432-df75e03a5a04"
      },
      "source": [
        "genero = \"Masculino\"\r\n",
        "\r\n",
        "print(\"Sem formatação:\", genero)\r\n",
        "\r\n",
        "print(\"Capitalize:\", genero.capitalize())\r\n",
        "\r\n",
        "print(\"Upper case:\", genero.upper())\r\n",
        "\r\n",
        "print(\"Lower case:\", genero.lower())\r\n",
        "\r\n",
        "print()\r\n",
        "\r\n",
        "if genero.lower() == \"masculino\":\r\n",
        "  print(f\"Esse if será lido\")\r\n",
        "else:\r\n",
        "  print(\"Esse if não foi lido\")"
      ],
      "execution_count": null,
      "outputs": [
        {
          "output_type": "stream",
          "text": [
            "Sem formatação: Masculino\n",
            "Capitalize: Masculino\n",
            "Upper case: MASCULINO\n",
            "Lower case: masculino\n",
            "\n",
            "Esse if será lido\n"
          ],
          "name": "stdout"
        }
      ]
    },
    {
      "cell_type": "code",
      "metadata": {
        "colab": {
          "base_uri": "https://localhost:8080/"
        },
        "id": "3QzOq6MwR6Xa",
        "outputId": "6ceffeb6-dece-43d1-cc0e-06c756991258"
      },
      "source": [
        "\r\n",
        "idade = 5 # int\r\n",
        "outra_idade = \"5\" # str\r\n",
        "nova_idade = input(\"Idade: \") # str\r\n",
        "\r\n",
        "outra_idade_transformada = int(outra_idade)\r\n",
        "\r\n",
        "nova_idade_transformada = int(nova_idade)\r\n",
        "\r\n",
        "print()\r\n",
        "\r\n",
        "print(idade, type(idade))\r\n",
        "print()\r\n",
        "\r\n",
        "print(outra_idade, type(outra_idade))\r\n",
        "print(outra_idade_transformada, type(outra_idade_transformada))\r\n",
        "print()\r\n",
        "\r\n",
        "print(nova_idade, type(nova_idade))\r\n",
        "print(nova_idade_transformada, type(nova_idade_transformada))"
      ],
      "execution_count": null,
      "outputs": [
        {
          "output_type": "stream",
          "text": [
            "Idade: 5\n",
            "\n",
            "5 <class 'int'>\n",
            "\n",
            "5 <class 'str'>\n",
            "5 <class 'int'>\n",
            "\n",
            "5 <class 'str'>\n",
            "5 <class 'int'>\n"
          ],
          "name": "stdout"
        }
      ]
    },
    {
      "cell_type": "code",
      "metadata": {
        "colab": {
          "base_uri": "https://localhost:8080/"
        },
        "id": "XBpFxy3ZR814",
        "outputId": "f3c67382-9b78-4ccb-827e-6f970f4fad85"
      },
      "source": [
        "idade = 20\r\n",
        "maior_idade = False\r\n",
        "\r\n",
        "print(\"Maior idade:\", maior_idade, type(maior_idade))"
      ],
      "execution_count": null,
      "outputs": [
        {
          "output_type": "stream",
          "text": [
            "Maior idade: False <class 'bool'>\n"
          ],
          "name": "stdout"
        }
      ]
    },
    {
      "cell_type": "code",
      "metadata": {
        "colab": {
          "base_uri": "https://localhost:8080/"
        },
        "id": "EFTgP7jjR_Vn",
        "outputId": "641d4184-32c6-44f6-8cfe-7445521a5e41"
      },
      "source": [
        "idade = 20\r\n",
        "maior_idade = idade >= 18\r\n",
        "\r\n",
        "print(\"Maior idade:\", maior_idade, type(maior_idade))"
      ],
      "execution_count": null,
      "outputs": [
        {
          "output_type": "stream",
          "text": [
            "Maior idade: True <class 'bool'>\n"
          ],
          "name": "stdout"
        }
      ]
    },
    {
      "cell_type": "code",
      "metadata": {
        "colab": {
          "base_uri": "https://localhost:8080/"
        },
        "id": "LJAcs_WNSEL0",
        "outputId": "76d9a1d3-1d95-4260-993b-f33c083dd090"
      },
      "source": [
        "idade = 17\r\n",
        "altura = 202\r\n",
        "\r\n",
        "maior_idade = idade >= 18\r\n",
        "\r\n",
        "maior_que_dois_metros = altura >= 200\r\n",
        "\r\n",
        "maior_idade_e_maior_que_dois_metros = maior_idade and maior_que_dois_metros\r\n",
        "\r\n",
        "print(\"Maior idade:\", maior_idade, type(maior_idade))\r\n",
        "print(\"Maior do que 200cm:\", maior_que_dois_metros, type(maior_que_dois_metros))\r\n",
        "\r\n",
        "print()\r\n",
        "\r\n",
        "print(\"Maior de Idade e Maior do que 2m:\", maior_idade_e_maior_que_dois_metros, type(maior_idade_e_maior_que_dois_metros))"
      ],
      "execution_count": null,
      "outputs": [
        {
          "output_type": "stream",
          "text": [
            "Maior idade: False <class 'bool'>\n",
            "Maior do que 200cm: True <class 'bool'>\n",
            "\n",
            "Maior de Idade e Maior do que 2m: False <class 'bool'>\n"
          ],
          "name": "stdout"
        }
      ]
    },
    {
      "cell_type": "code",
      "metadata": {
        "colab": {
          "base_uri": "https://localhost:8080/"
        },
        "id": "ICCPcwzgSHJX",
        "outputId": "3dd2aa74-ecfa-4156-d5f0-359c4816f1fb"
      },
      "source": [
        "# Valores Booleanos\r\n",
        "\r\n",
        "print(True)\r\n",
        "print(False)"
      ],
      "execution_count": null,
      "outputs": [
        {
          "output_type": "stream",
          "text": [
            "True\n",
            "False\n"
          ],
          "name": "stdout"
        }
      ]
    },
    {
      "cell_type": "code",
      "metadata": {
        "colab": {
          "base_uri": "https://localhost:8080/"
        },
        "id": "4QWbC6r9SJZl",
        "outputId": "1f75a626-f2c1-4d04-b112-a774d269f11d"
      },
      "source": [
        "# Comparações\r\n",
        "\r\n",
        "print(\"1 > 1\", 1 > 1)\r\n",
        "print(\"1 == 1\", 1 == 1)\r\n",
        "print(\"1 != 1\", 1 != 1)\r\n",
        "print(\"1 < 1\", 1 < 1)\r\n",
        "print(\"1 <= 1\", 1 <= 1)\r\n",
        "print(\"1 >= 1\", 1 >= 1)"
      ],
      "execution_count": null,
      "outputs": [
        {
          "output_type": "stream",
          "text": [
            "1 > 1 False\n",
            "1 == 1 True\n",
            "1 != 1 False\n",
            "1 < 1 False\n",
            "1 <= 1 True\n",
            "1 >= 1 True\n"
          ],
          "name": "stdout"
        }
      ]
    },
    {
      "cell_type": "code",
      "metadata": {
        "colab": {
          "base_uri": "https://localhost:8080/"
        },
        "id": "WM2Lcs8cSMz6",
        "outputId": "5932dc35-12b0-4da5-b03b-fe7cbc7bd7bd"
      },
      "source": [
        "# Operadores: not\r\n",
        "\r\n",
        "print(\"True\", True)\r\n",
        "print(\"False\", False)\r\n",
        "print(\"not True\", not True)\r\n",
        "print(\"not False\", not False)"
      ],
      "execution_count": null,
      "outputs": [
        {
          "output_type": "stream",
          "text": [
            "True True\n",
            "False False\n",
            "not True False\n",
            "not False True\n"
          ],
          "name": "stdout"
        }
      ]
    },
    {
      "cell_type": "code",
      "metadata": {
        "colab": {
          "base_uri": "https://localhost:8080/"
        },
        "id": "HrLqf6-sSPk6",
        "outputId": "6fe919ad-c9d0-44f4-f5be-b510b32887a6"
      },
      "source": [
        "\r\n",
        "idade = 15\r\n",
        "maiorIdade = idade >= 18\r\n",
        "\r\n",
        "menorIdade = maiorIdade\r\n",
        "\r\n",
        "print(\"Essa pessoa é menor de idade?\", menorIdade)"
      ],
      "execution_count": null,
      "outputs": [
        {
          "output_type": "stream",
          "text": [
            "Essa pessoa é menor de idade? False\n"
          ],
          "name": "stdout"
        }
      ]
    },
    {
      "cell_type": "code",
      "metadata": {
        "colab": {
          "base_uri": "https://localhost:8080/"
        },
        "id": "MoCI15PCUrZS",
        "outputId": "56b2e20a-db46-4f51-f9be-9fd9c445b1af"
      },
      "source": [
        "# Operadores: and (em outras linguagens, também é conhecido pelo símbolo '&&')\r\n",
        "# Para que o resultado de operação com o 'and' seja True, é necessário que os valores ao lado do 'and' sejam True\r\n",
        "\r\n",
        "print(\"True and True: \", True and True) # True\r\n",
        "print(\"False and True: \", False and True) # False\r\n",
        "print(\"True and False: \", True and False) # False\r\n",
        "print(\"False and False: \", False and False) # False"
      ],
      "execution_count": null,
      "outputs": [
        {
          "output_type": "stream",
          "text": [
            "True and True:  True\n",
            "False and True:  False\n",
            "True and False:  False\n",
            "False and False:  False\n"
          ],
          "name": "stdout"
        }
      ]
    },
    {
      "cell_type": "code",
      "metadata": {
        "colab": {
          "base_uri": "https://localhost:8080/"
        },
        "id": "r8C68QuqUt2K",
        "outputId": "04b956a2-30bb-46b3-de2d-9f03feac0903"
      },
      "source": [
        "# Operadores: or (em outras linguagens, também é conhecido pelo símbolo '||')\r\n",
        "# Para que o resultado de operação com o 'or' seja True, apenas um dos valores ao lado do 'or' precisa ser True\r\n",
        "\r\n",
        "print(\"True or True: \", True or True) # True\r\n",
        "print(\"False or True: \", False or True) # True\r\n",
        "print(\"True or False: \", True or False) # True\r\n",
        "print(\"False or False: \", False or False) # False"
      ],
      "execution_count": null,
      "outputs": [
        {
          "output_type": "stream",
          "text": [
            "True or True:  True\n",
            "False or True:  True\n",
            "True or False:  True\n",
            "False or False:  False\n"
          ],
          "name": "stdout"
        }
      ]
    },
    {
      "cell_type": "code",
      "metadata": {
        "id": "jCuU2VVQUwvz",
        "colab": {
          "base_uri": "https://localhost:8080/"
        },
        "outputId": "3e842cf7-51c1-402d-ecdd-de5ccc568ede"
      },
      "source": [
        "print(\"1 == 1: \", 1 == 1) # True\r\n",
        "print(\"1.0 == 1: \", 1.0 == 1) # True\r\n",
        "# As barras invertidas '\\' servem para escapar a string e não considerar como código\r\n",
        "print(\"\\\"1\\\" == 1: \", \"1\" == 1) # False\r\n",
        "print(\"True == 1: \", True == 1) # True\r\n",
        "print(\"True == 2: \", True == 2) # False\r\n",
        "print(\"True == 0: \", True == 0) # False\r\n",
        "print(\"False == 0: \", False == 0) # True\r\n",
        "print(\"False == False: \", False == False) # True\r\n",
        "\r\n",
        "print()\r\n",
        "\r\n",
        "print(type(1), type(1.0), type(\"1\"))"
      ],
      "execution_count": null,
      "outputs": [
        {
          "output_type": "stream",
          "text": [
            "1 == 1:  True\n",
            "1.0 == 1:  True\n",
            "\"1\" == 1:  False\n",
            "True == 1:  True\n",
            "True == 2:  False\n",
            "True == 0:  False\n",
            "False == 0:  True\n",
            "False == False:  True\n",
            "\n",
            "<class 'int'> <class 'float'> <class 'str'>\n"
          ],
          "name": "stdout"
        }
      ]
    },
    {
      "cell_type": "code",
      "metadata": {
        "id": "yVEIgBwEpcUJ"
      },
      "source": [
        "\r\n",
        "# Na volta do intervalo, falaremos sobre:\r\n",
        "\r\n",
        "# If, Elif (else if), else\r\n",
        "# Funções"
      ],
      "execution_count": 18,
      "outputs": []
    },
    {
      "cell_type": "code",
      "metadata": {
        "colab": {
          "base_uri": "https://localhost:8080/"
        },
        "id": "r5oHzpsupfcL",
        "outputId": "862a067a-5efc-48ea-d267-118a3f06238e"
      },
      "source": [
        "# Declarações de condição: if, elif (else if), else\r\n",
        "\r\n",
        "# Primeira: if (se), ou seja, se algo for True\r\n",
        "\r\n",
        "# Indentation block\r\n",
        "# Bloco indentado\r\n",
        "\r\n",
        "if True:\r\n",
        "  print(\"Esse if será lido\")\r\n",
        "\r\n",
        "if False:\r\n",
        "  print(\"Esse if não será lido\")\r\n",
        "\r\n",
        "print(\"Apenas o primeiro if foi lido\")"
      ],
      "execution_count": 19,
      "outputs": [
        {
          "output_type": "stream",
          "text": [
            "Esse if será lido\n",
            "Apenas o primeiro if foi lido\n"
          ],
          "name": "stdout"
        }
      ]
    },
    {
      "cell_type": "code",
      "metadata": {
        "colab": {
          "base_uri": "https://localhost:8080/"
        },
        "id": "M97NiMglpiJX",
        "outputId": "6b41e79d-2247-4fb5-b4b1-eff071569a46"
      },
      "source": [
        "# Declarações de condição: if, elif (else if), else\r\n",
        "\r\n",
        "# Segunda: else (caso contrário) e ele SEMPRE vem depois de um if ou de um elif\r\n",
        "# Por tanto, ele sempre possui uma CONDIÇÃO que foi checada antes dele\r\n",
        "# O else é ativado caso a(s) condições anteriores foram False\r\n",
        "\r\n",
        "if False:\r\n",
        "  print(\"Esse if não será lido, pois a condição dele é False\")\r\n",
        "else:\r\n",
        "  print(\"Esse else será lido, pois todas as condições anteriores são False.\")\r\n",
        "  print(\"No caso, tivemos apenas uma condição\")"
      ],
      "execution_count": 20,
      "outputs": [
        {
          "output_type": "stream",
          "text": [
            "Esse else será lido, pois todas as condições anteriores são False.\n",
            "No caso, tivemos apenas uma condição\n"
          ],
          "name": "stdout"
        }
      ]
    },
    {
      "cell_type": "code",
      "metadata": {
        "colab": {
          "base_uri": "https://localhost:8080/"
        },
        "id": "onjjeld7ppDj",
        "outputId": "1075f291-3f1a-41e4-d351-233775f557ee"
      },
      "source": [
        "# Declarações de condição: if, elif (else if), else\r\n",
        "\r\n",
        "# Terceira: elif (em outras linguagens, também é conhecido como else if) (caso contrário, se), ou seja,\r\n",
        "# Quando todas as condições anteriores foram False, mas a sua condição é True\r\n",
        "# Um elif precisa OBRIGATORIAMENTE estar depois de um IF ou de outro ELIF\r\n",
        "\r\n",
        "if False:\r\n",
        "  print(\"1 - Esse if não será lido\")\r\n",
        "elif True:\r\n",
        "  print(\"2 - Esse elif será lido\")\r\n",
        "\r\n",
        "print()\r\n",
        "\r\n",
        "if False:\r\n",
        "  print(\"1 - Esse if não será lido\")\r\n",
        "elif False:\r\n",
        "  print(\"2 - Esse elif não será lido\")\r\n",
        "elif True:\r\n",
        "  print(\"3 - Esse elif será lido\")\r\n",
        "\r\n",
        "print()\r\n",
        "\r\n",
        "if False:\r\n",
        "  print(\"1 - Esse if não será lido\")\r\n",
        "elif False:\r\n",
        "  print(\"2 - Esse elif não será lido\")\r\n",
        "else:\r\n",
        "  print(\"3 - Esse else será lido\")\r\n",
        "\r\n",
        "print()\r\n",
        "\r\n",
        "if False:\r\n",
        "  print(\"1 - Esse if não será lido\")\r\n",
        "elif False:\r\n",
        "  print(\"2 - Esse elif não será lido\")\r\n",
        "elif False:\r\n",
        "  print(\"3 - Esse elif não será lido\")\r\n",
        "else:\r\n",
        "  print(\"4 - Esse else será lido\")\r\n",
        "\r\n",
        "print()\r\n",
        "\r\n",
        "if True:\r\n",
        "  print(\"1 - Esse if não será lido\")\r\n",
        "\r\n",
        "  if False:\r\n",
        "    print(\"2 - Esse if não será lido\")\r\n",
        "  elif True:\r\n",
        "    print(\"3 - Esse elif será lido\")"
      ],
      "execution_count": 21,
      "outputs": [
        {
          "output_type": "stream",
          "text": [
            "2 - Esse elif será lido\n",
            "\n",
            "3 - Esse elif será lido\n",
            "\n",
            "3 - Esse else será lido\n",
            "\n",
            "4 - Esse else será lido\n",
            "\n",
            "1 - Esse if não será lido\n",
            "3 - Esse elif será lido\n"
          ],
          "name": "stdout"
        }
      ]
    },
    {
      "cell_type": "code",
      "metadata": {
        "colab": {
          "base_uri": "https://localhost:8080/"
        },
        "id": "BNsZxoVZpreF",
        "outputId": "33ee8495-98a9-4bee-c9a9-0d794be896b3"
      },
      "source": [
        "idade = 20\r\n",
        "maior_idade = idade >= 18\r\n",
        "\r\n",
        "if maior_idade:\r\n",
        "  print(\"Essa pessoa é maior de idade.\")\r\n",
        "else:\r\n",
        "  print(\"Essa pessoa é menor de idade\")"
      ],
      "execution_count": 22,
      "outputs": [
        {
          "output_type": "stream",
          "text": [
            "Essa pessoa é maior de idade.\n"
          ],
          "name": "stdout"
        }
      ]
    },
    {
      "cell_type": "code",
      "metadata": {
        "colab": {
          "base_uri": "https://localhost:8080/"
        },
        "id": "04Sc03fZpvQ3",
        "outputId": "c5dda1df-f397-46b5-dd9c-a0558d2c6ac0"
      },
      "source": [
        "letra = input(\"Digite uma letra: \").upper()\r\n",
        "\r\n",
        "if letra == \"A\":\r\n",
        "  print(\"A de Amor\")\r\n",
        "elif letra == \"B\":\r\n",
        "  print(\"B de Baixinho\")\r\n",
        "elif letra == \"C\":\r\n",
        "  print(\"C de Coração\")\r\n",
        "else:\r\n",
        "  print(\"Não sei opinar\")"
      ],
      "execution_count": 23,
      "outputs": [
        {
          "output_type": "stream",
          "text": [
            "Digite uma letra: a\n",
            "A de Amor\n"
          ],
          "name": "stdout"
        }
      ]
    },
    {
      "cell_type": "code",
      "metadata": {
        "colab": {
          "base_uri": "https://localhost:8080/"
        },
        "id": "zFY95eh5pyMt",
        "outputId": "eb58b1dd-d565-47a6-afa9-7b1901c2480f"
      },
      "source": [
        "\r\n",
        "if True:\r\n",
        "  print(\"Esse if será lido\")\r\n",
        "\r\n",
        "\r\n",
        "variavel = True\r\n",
        "if variavel:\r\n",
        "  print(\"Esse if será lido\")\r\n",
        "\r\n",
        "\r\n",
        "variavel2 = 1 == 1\r\n",
        "if variavel2:\r\n",
        "  print(\"Esse if será lido\")\r\n",
        "\r\n",
        "\r\n",
        "if 1 == 1:\r\n",
        "  print(\"Esse if será lido\")"
      ],
      "execution_count": 24,
      "outputs": [
        {
          "output_type": "stream",
          "text": [
            "Esse if será lido\n",
            "Esse if será lido\n",
            "Esse if será lido\n",
            "Esse if será lido\n"
          ],
          "name": "stdout"
        }
      ]
    },
    {
      "cell_type": "code",
      "metadata": {
        "colab": {
          "base_uri": "https://localhost:8080/"
        },
        "id": "1Iuzx5j5p0he",
        "outputId": "ccc0b82d-3dcb-4c7d-a262-be180d531e90"
      },
      "source": [
        "idade = 15\r\n",
        "maior_idade = idade >= 18\r\n",
        "\r\n",
        "if maior_idade:\r\n",
        "  print(\"Maior\")\r\n",
        "else:\r\n",
        "  print(\"Menor\")"
      ],
      "execution_count": 26,
      "outputs": [
        {
          "output_type": "stream",
          "text": [
            "Menor\n"
          ],
          "name": "stdout"
        }
      ]
    },
    {
      "cell_type": "code",
      "metadata": {
        "id": "VrSa4TVup206"
      },
      "source": [
        "\r\n",
        "idade = 40\r\n",
        "faixa_etaria1 = idade >= 0 and idade < 15\r\n",
        "faixa_etaria2 = idade >= 15 and idade < 40\r\n",
        "faixa_etaria3 = idade >= 40\r\n",
        "\r\n",
        "print(\"Idade:\", idade)\r\n",
        "print(\"Faixa Etária 1:\", faixa_etaria1)\r\n",
        "print(\"Faixa Etária 2:\", faixa_etaria2)\r\n",
        "print(\"Faixa Etária 3:\", faixa_etaria3)\r\n",
        "\r\n",
        "if faixa_etaria3:\r\n",
        "  print(\"Essa pessoa está na faixa etária 3\")\r\n",
        "elif faixa_etaria2:\r\n",
        "  print(\"Essa pessoa está na faixa etária 2\")\r\n",
        "elif faixa_etaria1:\r\n",
        "  print(\"Essa pessoa está na faixa etária 1\")\r\n",
        "else:\r\n",
        "  print(\"Informe uma idade correta!\")"
      ],
      "execution_count": null,
      "outputs": []
    },
    {
      "cell_type": "code",
      "metadata": {
        "colab": {
          "base_uri": "https://localhost:8080/"
        },
        "id": "ebsKvHgDp5T_",
        "outputId": "d9136f37-7e71-4451-cb89-ce0d034ee5be"
      },
      "source": [
        "\r\n",
        "# Funções\r\n",
        "\r\n",
        "# Para criar uma função, usamos a declaração 'def', seguida de parênteses e criando um bloco com o símbolo ':'\r\n",
        "# Todo o conteúdo que estiver dentro da função, terá um nível de indentação, como fizemos no if, elif e else\r\n",
        "\r\n",
        "# É importante entender que a função possui dois estágios: declaração e execução\r\n",
        "# A declaração é quando falamos o que a função irá fazer ao ser EXECUTADA\r\n",
        "# A execução é a função tendo efeito de fato e executando tudo no processador\r\n",
        "\r\n",
        "# Declaração podemos fazer apenas uma única vez\r\n",
        "# Execução podemos fazer quantas vezes quisermos (daí vem a magia das funções, o reaproveitamento de lógica)\r\n",
        "\r\n",
        "# Declaração da função 'exibir_nome()':\r\n",
        "def exibir_nome():\r\n",
        "  print(\"Fabiana Sugamele\")\r\n",
        "\r\n",
        "\r\n",
        "# Execução da função 'exibir_nome()':\r\n",
        "exibir_nome()\r\n",
        "exibir_nome()"
      ],
      "execution_count": 28,
      "outputs": [
        {
          "output_type": "stream",
          "text": [
            "Fabiana Sugamele\n",
            "Fabiana Sugamele\n"
          ],
          "name": "stdout"
        }
      ]
    },
    {
      "cell_type": "code",
      "metadata": {
        "colab": {
          "base_uri": "https://localhost:8080/"
        },
        "id": "0Wb4VV9Dp7QB",
        "outputId": "679dbf0b-51f3-4d3c-e990-a7502978658f"
      },
      "source": [
        "\r\n",
        "def exibir_numero():\r\n",
        "  print(1)\r\n",
        "\r\n",
        "exibir_numero()"
      ],
      "execution_count": 29,
      "outputs": [
        {
          "output_type": "stream",
          "text": [
            "1\n"
          ],
          "name": "stdout"
        }
      ]
    },
    {
      "cell_type": "code",
      "metadata": {
        "colab": {
          "base_uri": "https://localhost:8080/"
        },
        "id": "VtbIs3S3p907",
        "outputId": "80bf8f8a-57c6-4b79-f911-06079fa1ec6b"
      },
      "source": [
        "# Declaração\r\n",
        "\r\n",
        "def exibir_faixa_etaria():\r\n",
        "    idade = int(input(\"Digite a idade:\"))\r\n",
        "    faixa_etaria1 = idade >= 0\r\n",
        "    faixa_etaria2 = idade >= 18\r\n",
        "    faixa_etaria3 = idade >= 40\r\n",
        "\r\n",
        "    print(\"Idade:\", idade)\r\n",
        "    # print(\"Faixa Etária 1:\", faixa_etaria1)\r\n",
        "    # print(\"Faixa Etária 2:\", faixa_etaria2)\r\n",
        "    # print(\"Faixa Etária 3:\", faixa_etaria3)\r\n",
        "\r\n",
        "    if faixa_etaria3:\r\n",
        "        print(\"Essa pessoa está na faixa etária 3\")\r\n",
        "    elif faixa_etaria2:\r\n",
        "        print(\"Essa pessoa está na faixa etária 2\")\r\n",
        "    elif faixa_etaria1:\r\n",
        "        print(\"Essa pessoa está na faixa etária 1\")\r\n",
        "    else:\r\n",
        "        print(\"Informe uma idade correta!\")\r\n",
        "        exibir_faixa_etaria()\r\n",
        "\r\n",
        "# Execução\r\n",
        "exibir_faixa_etaria()"
      ],
      "execution_count": 30,
      "outputs": [
        {
          "output_type": "stream",
          "text": [
            "Digite a idade:21\n",
            "Idade: 21\n",
            "Essa pessoa está na faixa etária 2\n"
          ],
          "name": "stdout"
        }
      ]
    },
    {
      "cell_type": "code",
      "metadata": {
        "colab": {
          "base_uri": "https://localhost:8080/"
        },
        "id": "_2b4oGLWqBuL",
        "outputId": "d843f4fb-61ad-413e-ed19-a7d8ef9dc3c1"
      },
      "source": [
        "\r\n",
        "# 'idade' é o parâmetro necessário para que a função 'exibir_faixa_etaria()' execute.\r\n",
        "def exibir_faixa_etaria(idade):\r\n",
        "    faixa_etaria1 = idade >= 0\r\n",
        "    faixa_etaria2 = idade >= 18\r\n",
        "    faixa_etaria3 = idade >= 40\r\n",
        "\r\n",
        "    print(\"Idade:\", idade)\r\n",
        "    # print(\"Faixa Etária 1:\", faixa_etaria1)\r\n",
        "    # print(\"Faixa Etária 2:\", faixa_etaria2)\r\n",
        "    # print(\"Faixa Etária 3:\", faixa_etaria3)\r\n",
        "\r\n",
        "    if faixa_etaria3:\r\n",
        "        print(\"Essa pessoa está na faixa etária 3\")\r\n",
        "    elif faixa_etaria2:\r\n",
        "        print(\"Essa pessoa está na faixa etária 2\")\r\n",
        "    elif faixa_etaria1:\r\n",
        "        print(\"Essa pessoa está na faixa etária 1\")\r\n",
        "    else:\r\n",
        "        print(\"Informe uma idade correta!\")\r\n",
        "\r\n",
        "# Execução\r\n",
        "  # O valor '50' é um argumento da função 'exibir_faixa_etaria'. Esse valor entrará para a função\r\n",
        "  # como o parâmetro 'idade\r\n",
        "exibir_faixa_etaria(50)\r\n",
        "exibir_faixa_etaria(10)\r\n",
        "exibir_faixa_etaria(30)\r\n",
        "exibir_faixa_etaria(70)\r\n",
        "exibir_faixa_etaria(25)\r\n",
        "exibir_faixa_etaria(-10)"
      ],
      "execution_count": 31,
      "outputs": [
        {
          "output_type": "stream",
          "text": [
            "Idade: 50\n",
            "Essa pessoa está na faixa etária 3\n",
            "Idade: 10\n",
            "Essa pessoa está na faixa etária 1\n",
            "Idade: 30\n",
            "Essa pessoa está na faixa etária 2\n",
            "Idade: 70\n",
            "Essa pessoa está na faixa etária 3\n",
            "Idade: 25\n",
            "Essa pessoa está na faixa etária 2\n",
            "Idade: -10\n",
            "Informe uma idade correta!\n"
          ],
          "name": "stdout"
        }
      ]
    },
    {
      "cell_type": "markdown",
      "metadata": {
        "id": "u_PmI3NFqI5E"
      },
      "source": [
        "\r\n",
        "## Exercícios para praticar\r\n",
        "https://github.com/paulosalvatore/ExerciciosPython/blob/master/exercicios/exercicio5.py\r\n",
        "\r\n",
        "https://github.com/paulosalvatore/ExerciciosPython/blob/master/exercicios/exercicio6.py\r\n",
        "\r\n",
        "https://github.com/paulosalvatore/ExerciciosPython/blob/master/exercicios/exercicio7.py\r\n",
        "\r\n",
        "https://github.com/paulosalvatore/ExerciciosPython/blob/master/exercicios/exercicio8.py\r\n",
        "\r\n",
        "https://github.com/paulosalvatore/ExerciciosPython/blob/master/exercicios/exercicio9.py\r\n",
        "\r\n",
        "https://github.com/paulosalvatore/ExerciciosPython/blob/master/exercicios/exercicio10.py\r\n",
        "\r\n",
        "https://github.com/paulosalvatore/ExerciciosPython/blob/master/exercicios/exercicio12.py\r\n",
        "\r\n"
      ]
    },
    {
      "cell_type": "markdown",
      "metadata": {
        "id": "g_ieBwGKqRWz"
      },
      "source": [
        "##Exercícios para trazer amanhã\r\n",
        "https://github.com/paulosalvatore/ExerciciosPython/blob/master/exercicios/exercicio13.py"
      ]
    }
  ]
}