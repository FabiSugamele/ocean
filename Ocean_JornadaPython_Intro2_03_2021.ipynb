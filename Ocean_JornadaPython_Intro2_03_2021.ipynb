{
  "nbformat": 4,
  "nbformat_minor": 0,
  "metadata": {
    "colab": {
      "name": "Ocean_JornadaPython_Intro2_03_2021.ipynb",
      "provenance": [],
      "authorship_tag": "ABX9TyOb9EH7No7GITr4QDHNArRw",
      "include_colab_link": true
    },
    "kernelspec": {
      "name": "python3",
      "display_name": "Python 3"
    }
  },
  "cells": [
    {
      "cell_type": "markdown",
      "metadata": {
        "id": "view-in-github",
        "colab_type": "text"
      },
      "source": [
        "<a href=\"https://colab.research.google.com/github/FabiSugamele/ocean/blob/main/Ocean_JornadaPython_Intro2_03_2021.ipynb\" target=\"_parent\"><img src=\"https://colab.research.google.com/assets/colab-badge.svg\" alt=\"Open In Colab\"/></a>"
      ]
    },
    {
      "cell_type": "markdown",
      "metadata": {
        "id": "Z2bdM_oGLdcz"
      },
      "source": [
        "\r\n",
        "## Exercício 2 - Input de Informações\r\n",
        "Objetivo: Receber dados do usuário, trabalhar com os valores e exibir para o usuário.\r\n",
        "\r\n",
        "Dificuldade: Principiante\r\n",
        "\r\n",
        "1 - Crie um programa que receba do usuário seu nome, idade e gênero;\r\n",
        "\r\n",
        "2 - Exiba na tela seguinte mensagem: \"Olá, {nome}, você possui {idade} anos de idade e é do gênero {genero}.\";\r\n",
        "\r\n",
        "3 - Exiba também: \"Já pensou no que você fará no seu aniversário de {idade + 1} anos?\".\r\n",
        "\r\n",
        "Adicionando uma pimentinha extra: \"Se o usuário digitar idade 1, exiba apenas \"ano\" em vez de \"anos\". \"\"\""
      ]
    },
    {
      "cell_type": "code",
      "metadata": {
        "colab": {
          "base_uri": "https://localhost:8080/"
        },
        "id": "HGs23qr7LhE5",
        "outputId": "f08c95f8-2cec-48e9-9545-2b2d8cdc49e9"
      },
      "source": [
        "nome = input(\"Qual o seu nome? \")\r\n",
        "idade = int(input(\"Quantos anos você tem? \"))\r\n",
        "genero = input(\"Informe o seu gênero: \")\r\n",
        "\r\n",
        "print(nome, idade, genero)\r\n",
        "\r\n",
        "print(f\"Olá, {nome}, você possui {idade} anos de idade e é do gênero {genero}.\")\r\n",
        "\r\n",
        "print(f\"Já pensou no que você fará no seu aniversário de {idade + 1} anos?\")"
      ],
      "execution_count": 1,
      "outputs": [
        {
          "output_type": "stream",
          "text": [
            "Qual o seu nome? Maria\n",
            "Quantos anos você tem? 41\n",
            "Informe o seu gênero: feminino\n",
            "Maria 41 feminino\n",
            "Olá, Maria, você possui 41 anos de idade e é do gênero feminino.\n",
            "Já pensou no que você fará no seu aniversário de 42 anos?\n"
          ],
          "name": "stdout"
        }
      ]
    },
    {
      "cell_type": "code",
      "metadata": {
        "colab": {
          "base_uri": "https://localhost:8080/"
        },
        "id": "oKNF0215LtCd",
        "outputId": "67025d20-52b5-4e31-f880-5328795dec28"
      },
      "source": [
        "# Exemplo com a \"pimentinha extra\" resolvida\r\n",
        "\r\n",
        "nome = input(\"Qual o seu nome? \")\r\n",
        "idade = int(input(\"Quantos anos você tem? \"))\r\n",
        "genero = input(\"Informe o seu gênero: \")\r\n",
        "\r\n",
        "print(nome, idade, genero)\r\n",
        "\r\n",
        "print(f\"Olá, {nome}, você possui {idade} anos de idade e é do gênero {genero}.\")\r\n",
        "\r\n",
        "exibicao_anos = \"\"\r\n",
        "\r\n",
        "if idade > 1:\r\n",
        "  exibicao_anos = \"anos\"\r\n",
        "else:\r\n",
        "  exibicao_anos = \"ano\"\r\n",
        "\r\n",
        "print(f\"Já pensou no que você fará no seu aniversário de {idade + 1} {exibicao_anos}?\")"
      ],
      "execution_count": 2,
      "outputs": [
        {
          "output_type": "stream",
          "text": [
            "Qual o seu nome? Laura\n",
            "Quantos anos você tem? 0\n",
            "Informe o seu gênero: feminino\n",
            "Laura 0 feminino\n",
            "Olá, Laura, você possui 0 anos de idade e é do gênero feminino.\n",
            "Já pensou no que você fará no seu aniversário de 1 ano?\n"
          ],
          "name": "stdout"
        }
      ]
    }
  ]
}