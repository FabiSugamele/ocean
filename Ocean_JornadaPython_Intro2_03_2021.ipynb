{
  "nbformat": 4,
  "nbformat_minor": 0,
  "metadata": {
    "colab": {
      "name": "Ocean_JornadaPython_Intro2_03_2021.ipynb",
      "provenance": [],
      "authorship_tag": "ABX9TyNGL7Eda/xU03p5BjsJ59Mi",
      "include_colab_link": true
    },
    "kernelspec": {
      "name": "python3",
      "display_name": "Python 3"
    }
  },
  "cells": [
    {
      "cell_type": "markdown",
      "metadata": {
        "id": "view-in-github",
        "colab_type": "text"
      },
      "source": [
        "<a href=\"https://colab.research.google.com/github/FabiSugamele/ocean/blob/main/Ocean_JornadaPython_Intro2_03_2021.ipynb\" target=\"_parent\"><img src=\"https://colab.research.google.com/assets/colab-badge.svg\" alt=\"Open In Colab\"/></a>"
      ]
    },
    {
      "cell_type": "markdown",
      "metadata": {
        "id": "Z2bdM_oGLdcz"
      },
      "source": [
        "\r\n",
        "## Exercício 2 - Input de Informações\r\n",
        "Objetivo: Receber dados do usuário, trabalhar com os valores e exibir para o usuário.\r\n",
        "\r\n",
        "Dificuldade: Principiante\r\n",
        "\r\n",
        "1 - Crie um programa que receba do usuário seu nome, idade e gênero;\r\n",
        "\r\n",
        "2 - Exiba na tela seguinte mensagem: \"Olá, {nome}, você possui {idade} anos de idade e é do gênero {genero}.\";\r\n",
        "\r\n",
        "3 - Exiba também: \"Já pensou no que você fará no seu aniversário de {idade + 1} anos?\".\r\n",
        "\r\n",
        "Adicionando uma pimentinha extra: \"Se o usuário digitar idade 1, exiba apenas \"ano\" em vez de \"anos\". \"\"\""
      ]
    },
    {
      "cell_type": "code",
      "metadata": {
        "colab": {
          "base_uri": "https://localhost:8080/"
        },
        "id": "HGs23qr7LhE5",
        "outputId": "f08c95f8-2cec-48e9-9545-2b2d8cdc49e9"
      },
      "source": [
        "nome = input(\"Qual o seu nome? \")\r\n",
        "idade = int(input(\"Quantos anos você tem? \"))\r\n",
        "genero = input(\"Informe o seu gênero: \")\r\n",
        "\r\n",
        "print(nome, idade, genero)\r\n",
        "\r\n",
        "print(f\"Olá, {nome}, você possui {idade} anos de idade e é do gênero {genero}.\")\r\n",
        "\r\n",
        "print(f\"Já pensou no que você fará no seu aniversário de {idade + 1} anos?\")"
      ],
      "execution_count": 1,
      "outputs": [
        {
          "output_type": "stream",
          "text": [
            "Qual o seu nome? Maria\n",
            "Quantos anos você tem? 41\n",
            "Informe o seu gênero: feminino\n",
            "Maria 41 feminino\n",
            "Olá, Maria, você possui 41 anos de idade e é do gênero feminino.\n",
            "Já pensou no que você fará no seu aniversário de 42 anos?\n"
          ],
          "name": "stdout"
        }
      ]
    },
    {
      "cell_type": "code",
      "metadata": {
        "colab": {
          "base_uri": "https://localhost:8080/"
        },
        "id": "oKNF0215LtCd",
        "outputId": "4b991ab4-54c7-4a59-c611-57329d72c677"
      },
      "source": [
        "# Exemplo com a \"pimentinha extra\" resolvida\r\n",
        "\r\n",
        "nome = input(\"Qual o seu nome? \")\r\n",
        "idade = int(input(\"Quantos anos você tem? \"))\r\n",
        "genero = input(\"Informe o seu gênero: \")\r\n",
        "\r\n",
        "print(nome, idade, genero)\r\n",
        "\r\n",
        "print(f\"Olá, {nome}, você possui {idade} anos de idade e é do gênero {genero}.\")\r\n",
        "\r\n",
        "exibicao_anos = \"\"\r\n",
        "\r\n",
        "if idade > 1:\r\n",
        "  exibicao_anos = \"anos\"\r\n",
        "else:\r\n",
        "  exibicao_anos = \"ano\"\r\n",
        "\r\n",
        "print(f\"Já pensou no que você fará no seu aniversário de {idade + 1} {exibicao_anos}?\")"
      ],
      "execution_count": 3,
      "outputs": [
        {
          "output_type": "stream",
          "text": [
            "Qual o seu nome? Marco\n",
            "Quantos anos você tem? 38\n",
            "Informe o seu gênero: masculino\n",
            "Marco 38 masculino\n",
            "Olá, Marco, você possui 38 anos de idade e é do gênero masculino.\n",
            "Já pensou no que você fará no seu aniversário de 39 anos?\n"
          ],
          "name": "stdout"
        }
      ]
    },
    {
      "cell_type": "code",
      "metadata": {
        "colab": {
          "base_uri": "https://localhost:8080/"
        },
        "id": "K02vhGXRRzcb",
        "outputId": "24d844f2-5b45-4474-e206-f6015f423184"
      },
      "source": [
        "# Introduzindo um pouco a utilidade das FUNÇÕES\r\n",
        "\r\n",
        "def formatar_exibicao_anos(valor):\r\n",
        "  if valor != 1:\r\n",
        "    return \"anos\"\r\n",
        "  else:\r\n",
        "    return \"ano\"\r\n",
        "\r\n",
        "\r\n",
        "# Exemplo com a \"pimentinha extra\" resolvida\r\n",
        "\r\n",
        "nome = input(\"Qual o seu nome? \")\r\n",
        "idade = int(input(\"Quantos anos você tem? \"))\r\n",
        "genero = input(\"Informe o seu gênero: \")\r\n",
        "\r\n",
        "print(nome, idade, genero)\r\n",
        "\r\n",
        "print(f\"Olá, {nome}, você possui {idade} {formatar_exibicao_anos(idade)} de idade e é do gênero {genero}.\")\r\n",
        "\r\n",
        "aniversario = idade + 1\r\n",
        "\r\n",
        "print(f\"Já pensou no que você fará no seu aniversário de {aniversario} {formatar_exibicao_anos(aniversario)}?\")"
      ],
      "execution_count": 6,
      "outputs": [
        {
          "output_type": "stream",
          "text": [
            "Qual o seu nome? Miguel\n",
            "Quantos anos você tem? 5\n",
            "Informe o seu gênero: masculino\n",
            "Miguel 5 masculino\n",
            "Olá, Miguel, você possui 5 anos de idade e é do gênero masculino.\n",
            "Já pensou no que você fará no seu aniversário de 6 anos?\n"
          ],
          "name": "stdout"
        }
      ]
    },
    {
      "cell_type": "code",
      "metadata": {
        "colab": {
          "base_uri": "https://localhost:8080/"
        },
        "id": "z2q3jgaJR38K",
        "outputId": "a32e0f8f-bd94-4341-e432-df75e03a5a04"
      },
      "source": [
        "genero = \"Masculino\"\r\n",
        "\r\n",
        "print(\"Sem formatação:\", genero)\r\n",
        "\r\n",
        "print(\"Capitalize:\", genero.capitalize())\r\n",
        "\r\n",
        "print(\"Upper case:\", genero.upper())\r\n",
        "\r\n",
        "print(\"Lower case:\", genero.lower())\r\n",
        "\r\n",
        "print()\r\n",
        "\r\n",
        "if genero.lower() == \"masculino\":\r\n",
        "  print(f\"Esse if será lido\")\r\n",
        "else:\r\n",
        "  print(\"Esse if não foi lido\")"
      ],
      "execution_count": 4,
      "outputs": [
        {
          "output_type": "stream",
          "text": [
            "Sem formatação: Masculino\n",
            "Capitalize: Masculino\n",
            "Upper case: MASCULINO\n",
            "Lower case: masculino\n",
            "\n",
            "Esse if será lido\n"
          ],
          "name": "stdout"
        }
      ]
    },
    {
      "cell_type": "code",
      "metadata": {
        "colab": {
          "base_uri": "https://localhost:8080/"
        },
        "id": "3QzOq6MwR6Xa",
        "outputId": "6ceffeb6-dece-43d1-cc0e-06c756991258"
      },
      "source": [
        "\r\n",
        "idade = 5 # int\r\n",
        "outra_idade = \"5\" # str\r\n",
        "nova_idade = input(\"Idade: \") # str\r\n",
        "\r\n",
        "outra_idade_transformada = int(outra_idade)\r\n",
        "\r\n",
        "nova_idade_transformada = int(nova_idade)\r\n",
        "\r\n",
        "print()\r\n",
        "\r\n",
        "print(idade, type(idade))\r\n",
        "print()\r\n",
        "\r\n",
        "print(outra_idade, type(outra_idade))\r\n",
        "print(outra_idade_transformada, type(outra_idade_transformada))\r\n",
        "print()\r\n",
        "\r\n",
        "print(nova_idade, type(nova_idade))\r\n",
        "print(nova_idade_transformada, type(nova_idade_transformada))"
      ],
      "execution_count": 7,
      "outputs": [
        {
          "output_type": "stream",
          "text": [
            "Idade: 5\n",
            "\n",
            "5 <class 'int'>\n",
            "\n",
            "5 <class 'str'>\n",
            "5 <class 'int'>\n",
            "\n",
            "5 <class 'str'>\n",
            "5 <class 'int'>\n"
          ],
          "name": "stdout"
        }
      ]
    },
    {
      "cell_type": "code",
      "metadata": {
        "colab": {
          "base_uri": "https://localhost:8080/"
        },
        "id": "XBpFxy3ZR814",
        "outputId": "f3c67382-9b78-4ccb-827e-6f970f4fad85"
      },
      "source": [
        "idade = 20\r\n",
        "maior_idade = False\r\n",
        "\r\n",
        "print(\"Maior idade:\", maior_idade, type(maior_idade))"
      ],
      "execution_count": 8,
      "outputs": [
        {
          "output_type": "stream",
          "text": [
            "Maior idade: False <class 'bool'>\n"
          ],
          "name": "stdout"
        }
      ]
    },
    {
      "cell_type": "code",
      "metadata": {
        "colab": {
          "base_uri": "https://localhost:8080/"
        },
        "id": "EFTgP7jjR_Vn",
        "outputId": "641d4184-32c6-44f6-8cfe-7445521a5e41"
      },
      "source": [
        "idade = 20\r\n",
        "maior_idade = idade >= 18\r\n",
        "\r\n",
        "print(\"Maior idade:\", maior_idade, type(maior_idade))"
      ],
      "execution_count": 9,
      "outputs": [
        {
          "output_type": "stream",
          "text": [
            "Maior idade: True <class 'bool'>\n"
          ],
          "name": "stdout"
        }
      ]
    },
    {
      "cell_type": "code",
      "metadata": {
        "colab": {
          "base_uri": "https://localhost:8080/"
        },
        "id": "LJAcs_WNSEL0",
        "outputId": "76d9a1d3-1d95-4260-993b-f33c083dd090"
      },
      "source": [
        "idade = 17\r\n",
        "altura = 202\r\n",
        "\r\n",
        "maior_idade = idade >= 18\r\n",
        "\r\n",
        "maior_que_dois_metros = altura >= 200\r\n",
        "\r\n",
        "maior_idade_e_maior_que_dois_metros = maior_idade and maior_que_dois_metros\r\n",
        "\r\n",
        "print(\"Maior idade:\", maior_idade, type(maior_idade))\r\n",
        "print(\"Maior do que 200cm:\", maior_que_dois_metros, type(maior_que_dois_metros))\r\n",
        "\r\n",
        "print()\r\n",
        "\r\n",
        "print(\"Maior de Idade e Maior do que 2m:\", maior_idade_e_maior_que_dois_metros, type(maior_idade_e_maior_que_dois_metros))"
      ],
      "execution_count": 10,
      "outputs": [
        {
          "output_type": "stream",
          "text": [
            "Maior idade: False <class 'bool'>\n",
            "Maior do que 200cm: True <class 'bool'>\n",
            "\n",
            "Maior de Idade e Maior do que 2m: False <class 'bool'>\n"
          ],
          "name": "stdout"
        }
      ]
    },
    {
      "cell_type": "code",
      "metadata": {
        "colab": {
          "base_uri": "https://localhost:8080/"
        },
        "id": "ICCPcwzgSHJX",
        "outputId": "3dd2aa74-ecfa-4156-d5f0-359c4816f1fb"
      },
      "source": [
        "# Valores Booleanos\r\n",
        "\r\n",
        "print(True)\r\n",
        "print(False)"
      ],
      "execution_count": 11,
      "outputs": [
        {
          "output_type": "stream",
          "text": [
            "True\n",
            "False\n"
          ],
          "name": "stdout"
        }
      ]
    },
    {
      "cell_type": "code",
      "metadata": {
        "colab": {
          "base_uri": "https://localhost:8080/"
        },
        "id": "4QWbC6r9SJZl",
        "outputId": "1f75a626-f2c1-4d04-b112-a774d269f11d"
      },
      "source": [
        "# Comparações\r\n",
        "\r\n",
        "print(\"1 > 1\", 1 > 1)\r\n",
        "print(\"1 == 1\", 1 == 1)\r\n",
        "print(\"1 != 1\", 1 != 1)\r\n",
        "print(\"1 < 1\", 1 < 1)\r\n",
        "print(\"1 <= 1\", 1 <= 1)\r\n",
        "print(\"1 >= 1\", 1 >= 1)"
      ],
      "execution_count": 12,
      "outputs": [
        {
          "output_type": "stream",
          "text": [
            "1 > 1 False\n",
            "1 == 1 True\n",
            "1 != 1 False\n",
            "1 < 1 False\n",
            "1 <= 1 True\n",
            "1 >= 1 True\n"
          ],
          "name": "stdout"
        }
      ]
    },
    {
      "cell_type": "code",
      "metadata": {
        "colab": {
          "base_uri": "https://localhost:8080/"
        },
        "id": "WM2Lcs8cSMz6",
        "outputId": "5932dc35-12b0-4da5-b03b-fe7cbc7bd7bd"
      },
      "source": [
        "# Operadores: not\r\n",
        "\r\n",
        "print(\"True\", True)\r\n",
        "print(\"False\", False)\r\n",
        "print(\"not True\", not True)\r\n",
        "print(\"not False\", not False)"
      ],
      "execution_count": 13,
      "outputs": [
        {
          "output_type": "stream",
          "text": [
            "True True\n",
            "False False\n",
            "not True False\n",
            "not False True\n"
          ],
          "name": "stdout"
        }
      ]
    },
    {
      "cell_type": "code",
      "metadata": {
        "colab": {
          "base_uri": "https://localhost:8080/"
        },
        "id": "HrLqf6-sSPk6",
        "outputId": "6fe919ad-c9d0-44f4-f5be-b510b32887a6"
      },
      "source": [
        "\r\n",
        "idade = 15\r\n",
        "maiorIdade = idade >= 18\r\n",
        "\r\n",
        "menorIdade = maiorIdade\r\n",
        "\r\n",
        "print(\"Essa pessoa é menor de idade?\", menorIdade)"
      ],
      "execution_count": 14,
      "outputs": [
        {
          "output_type": "stream",
          "text": [
            "Essa pessoa é menor de idade? False\n"
          ],
          "name": "stdout"
        }
      ]
    },
    {
      "cell_type": "code",
      "metadata": {
        "colab": {
          "base_uri": "https://localhost:8080/"
        },
        "id": "MoCI15PCUrZS",
        "outputId": "56b2e20a-db46-4f51-f9be-9fd9c445b1af"
      },
      "source": [
        "# Operadores: and (em outras linguagens, também é conhecido pelo símbolo '&&')\r\n",
        "# Para que o resultado de operação com o 'and' seja True, é necessário que os valores ao lado do 'and' sejam True\r\n",
        "\r\n",
        "print(\"True and True: \", True and True) # True\r\n",
        "print(\"False and True: \", False and True) # False\r\n",
        "print(\"True and False: \", True and False) # False\r\n",
        "print(\"False and False: \", False and False) # False"
      ],
      "execution_count": 15,
      "outputs": [
        {
          "output_type": "stream",
          "text": [
            "True and True:  True\n",
            "False and True:  False\n",
            "True and False:  False\n",
            "False and False:  False\n"
          ],
          "name": "stdout"
        }
      ]
    },
    {
      "cell_type": "code",
      "metadata": {
        "colab": {
          "base_uri": "https://localhost:8080/"
        },
        "id": "r8C68QuqUt2K",
        "outputId": "04b956a2-30bb-46b3-de2d-9f03feac0903"
      },
      "source": [
        "# Operadores: or (em outras linguagens, também é conhecido pelo símbolo '||')\r\n",
        "# Para que o resultado de operação com o 'or' seja True, apenas um dos valores ao lado do 'or' precisa ser True\r\n",
        "\r\n",
        "print(\"True or True: \", True or True) # True\r\n",
        "print(\"False or True: \", False or True) # True\r\n",
        "print(\"True or False: \", True or False) # True\r\n",
        "print(\"False or False: \", False or False) # False"
      ],
      "execution_count": 16,
      "outputs": [
        {
          "output_type": "stream",
          "text": [
            "True or True:  True\n",
            "False or True:  True\n",
            "True or False:  True\n",
            "False or False:  False\n"
          ],
          "name": "stdout"
        }
      ]
    },
    {
      "cell_type": "code",
      "metadata": {
        "colab": {
          "base_uri": "https://localhost:8080/"
        },
        "id": "jCuU2VVQUwvz",
        "outputId": "3e842cf7-51c1-402d-ecdd-de5ccc568ede"
      },
      "source": [
        "print(\"1 == 1: \", 1 == 1) # True\r\n",
        "print(\"1.0 == 1: \", 1.0 == 1) # True\r\n",
        "# As barras invertidas '\\' servem para escapar a string e não considerar como código\r\n",
        "print(\"\\\"1\\\" == 1: \", \"1\" == 1) # False\r\n",
        "print(\"True == 1: \", True == 1) # True\r\n",
        "print(\"True == 2: \", True == 2) # False\r\n",
        "print(\"True == 0: \", True == 0) # False\r\n",
        "print(\"False == 0: \", False == 0) # True\r\n",
        "print(\"False == False: \", False == False) # True\r\n",
        "\r\n",
        "print()\r\n",
        "\r\n",
        "print(type(1), type(1.0), type(\"1\"))"
      ],
      "execution_count": 17,
      "outputs": [
        {
          "output_type": "stream",
          "text": [
            "1 == 1:  True\n",
            "1.0 == 1:  True\n",
            "\"1\" == 1:  False\n",
            "True == 1:  True\n",
            "True == 2:  False\n",
            "True == 0:  False\n",
            "False == 0:  True\n",
            "False == False:  True\n",
            "\n",
            "<class 'int'> <class 'float'> <class 'str'>\n"
          ],
          "name": "stdout"
        }
      ]
    }
  ]
}