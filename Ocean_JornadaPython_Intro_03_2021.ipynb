{
  "nbformat": 4,
  "nbformat_minor": 0,
  "metadata": {
    "colab": {
      "name": "Ocean_JornadaPython_Intro_03_2021.ipynb",
      "provenance": [],
      "authorship_tag": "ABX9TyPM7Dil3WoPK3Wiip46HIP1",
      "include_colab_link": true
    },
    "kernelspec": {
      "name": "python3",
      "display_name": "Python 3"
    }
  },
  "cells": [
    {
      "cell_type": "markdown",
      "metadata": {
        "id": "view-in-github",
        "colab_type": "text"
      },
      "source": [
        "<a href=\"https://colab.research.google.com/github/FabiSugamele/ocean/blob/main/Ocean_JornadaPython_Intro_03_2021.ipynb\" target=\"_parent\"><img src=\"https://colab.research.google.com/assets/colab-badge.svg\" alt=\"Open In Colab\"/></a>"
      ]
    },
    {
      "cell_type": "code",
      "metadata": {
        "colab": {
          "base_uri": "https://localhost:8080/"
        },
        "id": "LvIrmrmoDUqQ",
        "outputId": "407942f1-e8e1-4f67-ef56-a87d3579d1fb"
      },
      "source": [
        "print(\"Olá, mundo!\")"
      ],
      "execution_count": 4,
      "outputs": [
        {
          "output_type": "stream",
          "text": [
            "Olá, mundo!\n"
          ],
          "name": "stdout"
        }
      ]
    },
    {
      "cell_type": "code",
      "metadata": {
        "id": "RXdjpADsFcns"
      },
      "source": [
        "nome = \"Fabiana Sugamele\""
      ],
      "execution_count": 6,
      "outputs": []
    },
    {
      "cell_type": "code",
      "metadata": {
        "colab": {
          "base_uri": "https://localhost:8080/"
        },
        "id": "enSOpN6aFiY0",
        "outputId": "8aab22c8-6d41-41a9-f09e-82bc3bf3c3ae"
      },
      "source": [
        "print(nome)"
      ],
      "execution_count": 7,
      "outputs": [
        {
          "output_type": "stream",
          "text": [
            "Fabiana Sugamele\n"
          ],
          "name": "stdout"
        }
      ]
    },
    {
      "cell_type": "code",
      "metadata": {
        "colab": {
          "base_uri": "https://localhost:8080/"
        },
        "id": "jvsGgN-oFex3",
        "outputId": "91f783fd-033f-4318-bdb1-9a4c61a76ba0"
      },
      "source": [
        "nome = \"Fabiana\"\r\n",
        "sobrenome = \"Sobrenome\"\r\n",
        "\r\n",
        "print(nome)\r\n",
        "print(sobrenome)"
      ],
      "execution_count": 8,
      "outputs": [
        {
          "output_type": "stream",
          "text": [
            "Fabiana\n",
            "Sobrenome\n"
          ],
          "name": "stdout"
        }
      ]
    },
    {
      "cell_type": "code",
      "metadata": {
        "colab": {
          "base_uri": "https://localhost:8080/"
        },
        "id": "mgozvwUkF2yL",
        "outputId": "c4be5fd3-4896-4abb-fca6-aec36e9fcc4d"
      },
      "source": [
        "\r\n",
        "# Declara essa informação e guarda na memória\r\n",
        "numero = 5\r\n",
        "\r\n",
        "# Depois, acessamos essa informação e fazemos algo com ela\r\n",
        "# No caso, usamos o print() para exibí-la no console\r\n",
        "print(numero)"
      ],
      "execution_count": 9,
      "outputs": [
        {
          "output_type": "stream",
          "text": [
            "5\n"
          ],
          "name": "stdout"
        }
      ]
    },
    {
      "cell_type": "code",
      "metadata": {
        "colab": {
          "base_uri": "https://localhost:8080/"
        },
        "id": "wB-hWYkuF6iw",
        "outputId": "ebe9121c-9e31-4cca-b487-34544a386caf"
      },
      "source": [
        "numero = numero + 5\r\n",
        "\r\n",
        "print(numero)"
      ],
      "execution_count": 10,
      "outputs": [
        {
          "output_type": "stream",
          "text": [
            "10\n"
          ],
          "name": "stdout"
        }
      ]
    },
    {
      "cell_type": "code",
      "metadata": {
        "colab": {
          "base_uri": "https://localhost:8080/"
        },
        "id": "HvRxGvA3F9if",
        "outputId": "81188ded-c2c2-4024-8d81-4c05ffcac6f4"
      },
      "source": [
        "print(numero + 5)"
      ],
      "execution_count": 11,
      "outputs": [
        {
          "output_type": "stream",
          "text": [
            "15\n"
          ],
          "name": "stdout"
        }
      ]
    },
    {
      "cell_type": "code",
      "metadata": {
        "id": "qGmFkdBKGHtR"
      },
      "source": [
        "# Comentários!\r\n",
        "\r\n",
        "# Pode ser uma informação que vai me ajudar a entender o que estou escrevendo\r\n",
        "\r\n",
        "# Mais\r\n",
        "# de\r\n",
        "# uma\r\n",
        "# linha\r\n",
        "\r\n",
        "\"\"\"\r\n",
        "Comentário\r\n",
        "com\r\n",
        "várias\r\n",
        "linhas\r\n",
        "\"\"\"\r\n",
        "\r\n",
        "'''\r\n",
        "Comentário\r\n",
        "com\r\n",
        "várias\r\n",
        "linhas\r\n",
        "'''\r\n"
      ],
      "execution_count": null,
      "outputs": []
    },
    {
      "cell_type": "code",
      "metadata": {
        "colab": {
          "base_uri": "https://localhost:8080/"
        },
        "id": "IIqThgRtGN1Y",
        "outputId": "24ec5da3-bb25-4759-8b36-d7dbf21b513e"
      },
      "source": [
        "numero = 5 # Número inteiro: int\r\n",
        "numero_decimal = 5.5 # Número decimal: float\r\n",
        "texto = \"Paulo\" # Texto: string\r\n",
        "maior_idade = True # Booleano: bool\r\n",
        "\r\n",
        "print(numero, type(numero))\r\n",
        "print(numero_decimal, type(numero_decimal))\r\n",
        "print(texto, type(texto))\r\n",
        "print(maior_idade, type(maior_idade))"
      ],
      "execution_count": 13,
      "outputs": [
        {
          "output_type": "stream",
          "text": [
            "5 <class 'int'>\n",
            "5.5 <class 'float'>\n",
            "Paulo <class 'str'>\n",
            "True <class 'bool'>\n"
          ],
          "name": "stdout"
        }
      ]
    },
    {
      "cell_type": "code",
      "metadata": {
        "id": "a9iCYoCiGSDj"
      },
      "source": [
        "\r\n",
        "\"\"\"\r\n",
        "tipo_numero = type(numero)\r\n",
        "print(tipo_numero)\r\n",
        "\r\n",
        "print(type(numero))\r\n",
        "\r\n",
        "print(5, 10, \"Texto\")\r\n",
        "\"\"\""
      ],
      "execution_count": null,
      "outputs": []
    }
  ]
}