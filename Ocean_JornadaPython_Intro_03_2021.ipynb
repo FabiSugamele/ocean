{
  "nbformat": 4,
  "nbformat_minor": 0,
  "metadata": {
    "colab": {
      "name": "Ocean_JornadaPython_Intro_03_2021.ipynb",
      "provenance": [],
      "authorship_tag": "ABX9TyMN7Gefj91KT+OhlAhwuUyd",
      "include_colab_link": true
    },
    "kernelspec": {
      "name": "python3",
      "display_name": "Python 3"
    }
  },
  "cells": [
    {
      "cell_type": "markdown",
      "metadata": {
        "id": "view-in-github",
        "colab_type": "text"
      },
      "source": [
        "<a href=\"https://colab.research.google.com/github/FabiSugamele/ocean/blob/main/Ocean_JornadaPython_Intro_03_2021.ipynb\" target=\"_parent\"><img src=\"https://colab.research.google.com/assets/colab-badge.svg\" alt=\"Open In Colab\"/></a>"
      ]
    },
    {
      "cell_type": "code",
      "metadata": {
        "colab": {
          "base_uri": "https://localhost:8080/"
        },
        "id": "LvIrmrmoDUqQ",
        "outputId": "407942f1-e8e1-4f67-ef56-a87d3579d1fb"
      },
      "source": [
        "print(\"Olá, mundo!\")"
      ],
      "execution_count": 4,
      "outputs": [
        {
          "output_type": "stream",
          "text": [
            "Olá, mundo!\n"
          ],
          "name": "stdout"
        }
      ]
    },
    {
      "cell_type": "code",
      "metadata": {
        "id": "RXdjpADsFcns"
      },
      "source": [
        "nome = \"Fabiana Sugamele\""
      ],
      "execution_count": 6,
      "outputs": []
    },
    {
      "cell_type": "code",
      "metadata": {
        "colab": {
          "base_uri": "https://localhost:8080/"
        },
        "id": "enSOpN6aFiY0",
        "outputId": "8aab22c8-6d41-41a9-f09e-82bc3bf3c3ae"
      },
      "source": [
        "print(nome)"
      ],
      "execution_count": 7,
      "outputs": [
        {
          "output_type": "stream",
          "text": [
            "Fabiana Sugamele\n"
          ],
          "name": "stdout"
        }
      ]
    },
    {
      "cell_type": "code",
      "metadata": {
        "colab": {
          "base_uri": "https://localhost:8080/"
        },
        "id": "jvsGgN-oFex3",
        "outputId": "91f783fd-033f-4318-bdb1-9a4c61a76ba0"
      },
      "source": [
        "nome = \"Fabiana\"\r\n",
        "sobrenome = \"Sobrenome\"\r\n",
        "\r\n",
        "print(nome)\r\n",
        "print(sobrenome)"
      ],
      "execution_count": 8,
      "outputs": [
        {
          "output_type": "stream",
          "text": [
            "Fabiana\n",
            "Sobrenome\n"
          ],
          "name": "stdout"
        }
      ]
    },
    {
      "cell_type": "code",
      "metadata": {
        "colab": {
          "base_uri": "https://localhost:8080/"
        },
        "id": "mgozvwUkF2yL",
        "outputId": "c4be5fd3-4896-4abb-fca6-aec36e9fcc4d"
      },
      "source": [
        "\r\n",
        "# Declara essa informação e guarda na memória\r\n",
        "numero = 5\r\n",
        "\r\n",
        "# Depois, acessamos essa informação e fazemos algo com ela\r\n",
        "# No caso, usamos o print() para exibí-la no console\r\n",
        "print(numero)"
      ],
      "execution_count": 9,
      "outputs": [
        {
          "output_type": "stream",
          "text": [
            "5\n"
          ],
          "name": "stdout"
        }
      ]
    },
    {
      "cell_type": "code",
      "metadata": {
        "colab": {
          "base_uri": "https://localhost:8080/"
        },
        "id": "wB-hWYkuF6iw",
        "outputId": "ebe9121c-9e31-4cca-b487-34544a386caf"
      },
      "source": [
        "numero = numero + 5\r\n",
        "\r\n",
        "print(numero)"
      ],
      "execution_count": 10,
      "outputs": [
        {
          "output_type": "stream",
          "text": [
            "10\n"
          ],
          "name": "stdout"
        }
      ]
    },
    {
      "cell_type": "code",
      "metadata": {
        "colab": {
          "base_uri": "https://localhost:8080/"
        },
        "id": "HvRxGvA3F9if",
        "outputId": "81188ded-c2c2-4024-8d81-4c05ffcac6f4"
      },
      "source": [
        "print(numero + 5)"
      ],
      "execution_count": 11,
      "outputs": [
        {
          "output_type": "stream",
          "text": [
            "15\n"
          ],
          "name": "stdout"
        }
      ]
    },
    {
      "cell_type": "code",
      "metadata": {
        "id": "qGmFkdBKGHtR"
      },
      "source": [
        "# Comentários!\r\n",
        "\r\n",
        "# Pode ser uma informação que vai me ajudar a entender o que estou escrevendo\r\n",
        "\r\n",
        "# Mais\r\n",
        "# de\r\n",
        "# uma\r\n",
        "# linha\r\n",
        "\r\n",
        "\"\"\"\r\n",
        "Comentário\r\n",
        "com\r\n",
        "várias\r\n",
        "linhas\r\n",
        "\"\"\"\r\n",
        "\r\n",
        "'''\r\n",
        "Comentário\r\n",
        "com\r\n",
        "várias\r\n",
        "linhas\r\n",
        "'''\r\n"
      ],
      "execution_count": null,
      "outputs": []
    },
    {
      "cell_type": "code",
      "metadata": {
        "colab": {
          "base_uri": "https://localhost:8080/"
        },
        "id": "IIqThgRtGN1Y",
        "outputId": "24ec5da3-bb25-4759-8b36-d7dbf21b513e"
      },
      "source": [
        "numero = 5 # Número inteiro: int\r\n",
        "numero_decimal = 5.5 # Número decimal: float\r\n",
        "texto = \"Paulo\" # Texto: string\r\n",
        "maior_idade = True # Booleano: bool\r\n",
        "\r\n",
        "print(numero, type(numero))\r\n",
        "print(numero_decimal, type(numero_decimal))\r\n",
        "print(texto, type(texto))\r\n",
        "print(maior_idade, type(maior_idade))"
      ],
      "execution_count": 13,
      "outputs": [
        {
          "output_type": "stream",
          "text": [
            "5 <class 'int'>\n",
            "5.5 <class 'float'>\n",
            "Paulo <class 'str'>\n",
            "True <class 'bool'>\n"
          ],
          "name": "stdout"
        }
      ]
    },
    {
      "cell_type": "code",
      "metadata": {
        "id": "a9iCYoCiGSDj"
      },
      "source": [
        "\r\n",
        "\"\"\"\r\n",
        "tipo_numero = type(numero)\r\n",
        "print(tipo_numero)\r\n",
        "\r\n",
        "print(type(numero))\r\n",
        "\r\n",
        "print(5, 10, \"Texto\")\r\n",
        "\"\"\""
      ],
      "execution_count": null,
      "outputs": []
    },
    {
      "cell_type": "code",
      "metadata": {
        "colab": {
          "base_uri": "https://localhost:8080/"
        },
        "id": "3iovGYLUK-O7",
        "outputId": "da1c3859-8457-4fdc-a53b-18462d17cb4a"
      },
      "source": [
        "numero = 5.5\r\n",
        "\r\n",
        "print(type(numero))\r\n",
        "\r\n",
        "numero = 5\r\n",
        "\r\n",
        "print(type(numero))\r\n",
        "\r\n",
        "numero = \"Fabiana\"\r\n",
        "\r\n",
        "print(type(numero))"
      ],
      "execution_count": 14,
      "outputs": [
        {
          "output_type": "stream",
          "text": [
            "<class 'float'>\n",
            "<class 'int'>\n",
            "<class 'str'>\n"
          ],
          "name": "stdout"
        }
      ]
    },
    {
      "cell_type": "code",
      "metadata": {
        "colab": {
          "base_uri": "https://localhost:8080/"
        },
        "id": "j56lv7k9LDbs",
        "outputId": "c70c2506-2e82-4a81-fb0e-f3f68c36e31b"
      },
      "source": [
        "print(5 + 5)\r\n",
        "\r\n",
        "print(\"Fabiana\" + \"Sugamele\")\r\n",
        "\r\n",
        "print(\"1\" + \"5\")"
      ],
      "execution_count": 15,
      "outputs": [
        {
          "output_type": "stream",
          "text": [
            "10\n",
            "FabianaSugamele\n",
            "15\n"
          ],
          "name": "stdout"
        }
      ]
    },
    {
      "cell_type": "code",
      "metadata": {
        "id": "azlMxM4sJzGN"
      },
      "source": [
        "soma = 5 + 1\r\n",
        "subtracao = 3-8\r\n",
        "divisao = 10/3\r\n",
        "multiplicacao = 2.5 *3\r\n",
        "\r\n",
        "exponenciacao = 2 ** 3\r\n",
        "quociente_div = 10 // 3\r\n",
        "resto_div = 10 % 3 "
      ],
      "execution_count": 18,
      "outputs": []
    },
    {
      "cell_type": "code",
      "metadata": {
        "colab": {
          "base_uri": "https://localhost:8080/"
        },
        "id": "R3k1b_sWKGCr",
        "outputId": "9e007d62-7225-4b9b-debe-358a82f1cbb9"
      },
      "source": [
        "print(soma, subtracao, divisao, multiplicacao)"
      ],
      "execution_count": 19,
      "outputs": [
        {
          "output_type": "stream",
          "text": [
            "6 -5 3.3333333333333335 7.5\n"
          ],
          "name": "stdout"
        }
      ]
    },
    {
      "cell_type": "code",
      "metadata": {
        "colab": {
          "base_uri": "https://localhost:8080/"
        },
        "id": "-N_DMADFKWms",
        "outputId": "621d2b14-97c8-4679-f308-3a897a3cbc79"
      },
      "source": [
        "print (\"10/3 = \", divisao, \"10 // 3 = \", quociente_div, \"e 10%3 = \", resto_div)"
      ],
      "execution_count": 20,
      "outputs": [
        {
          "output_type": "stream",
          "text": [
            "10/3 =  3.3333333333333335 10 // 3 =  3 e 10%3 =  1\n"
          ],
          "name": "stdout"
        }
      ]
    },
    {
      "cell_type": "markdown",
      "metadata": {
        "id": "kF4I7RS6LepI"
      },
      "source": [
        "# Exercício 1 - \"E os 10% do garçom?\"\r\n",
        "\r\n",
        "- Defina uma variável para o valor de uma refeição que custou `R$ 42,54`;\r\n",
        "- Defina uma variável para o valor da taxa de serviço que é de `10%`;\r\n",
        "- Defina uma variável que calcula o valor total da conta e exiba-o no console (sem formatação, por enquanto, apenas o valor do resultado).\r\n"
      ]
    },
    {
      "cell_type": "code",
      "metadata": {
        "colab": {
          "base_uri": "https://localhost:8080/"
        },
        "id": "jDABZ913RCg4",
        "outputId": "99eadaeb-cfe6-46ea-c597-404324a00832"
      },
      "source": [
        "valor_refeicao = float(input(\"Digite o valor da refeição: \"))\r\n",
        "taxa_servico = 0.10 * valor_refeicao\r\n",
        "total_servico = valor_refeicao + taxa_servico\r\n",
        "print(f\"O valor da sua refeicão mais a taxa de serviço é R$ {total_servico:>7.2f}.\")"
      ],
      "execution_count": 45,
      "outputs": [
        {
          "output_type": "stream",
          "text": [
            "Digite o valor da refeição: 42.54\n",
            "O valor da sua refeicão mais a taxa de serviço é R$   46.79.\n"
          ],
          "name": "stdout"
        }
      ]
    },
    {
      "cell_type": "code",
      "metadata": {
        "colab": {
          "base_uri": "https://localhost:8080/"
        },
        "id": "Ta81lUMVTZG4",
        "outputId": "02f44c11-afc6-4226-b066-b36c75786a18"
      },
      "source": [
        "type(valor_refeicao)"
      ],
      "execution_count": 31,
      "outputs": [
        {
          "output_type": "execute_result",
          "data": {
            "text/plain": [
              "float"
            ]
          },
          "metadata": {
            "tags": []
          },
          "execution_count": 31
        }
      ]
    },
    {
      "cell_type": "markdown",
      "metadata": {
        "id": "uQQVlA0tXv6I"
      },
      "source": [
        "Para inteiro, usa o int(). O round ele não só converte para inteiro, ele também arredonda\r\n",
        "\r\n",
        "round(5.4) -> 5 (int) <br/>\r\n",
        "round(5.6) -> 6 (int)<br/>\r\n",
        "int(5.4) -> 5 (int)<br/>\r\n",
        "int(5.6) -> 5 (int)<br/>\r\n",
        "\r\n",
        "Referência do round em comparação com o int.\r\n",
        "\r\n",
        "Lembrando que o f\"\" com o .2f é a mesma coisa que o round em termos de efeito, só escrevemos coisas a menos\r\n"
      ]
    },
    {
      "cell_type": "code",
      "metadata": {
        "colab": {
          "base_uri": "https://localhost:8080/"
        },
        "id": "pBd_4a-seweu",
        "outputId": "522da68c-e62b-4365-973d-be0af7a61f06"
      },
      "source": [
        "# Indentação e formatação dos blocos\r\n",
        "\r\n",
        "if True:\r\n",
        "    print(\"Esse print será lido\")\r\n",
        "\r\n",
        "\r\n",
        "if False:\r\n",
        "\tprint(\"Esse print não será lido\")\r\n",
        "\tprint(\"Esse print não será lido\")\r\n",
        "\r\n",
        "\r\n",
        "print(\"Esse print será lido\")\r\n",
        "\r\n",
        "\r\n",
        "print(1)"
      ],
      "execution_count": 46,
      "outputs": [
        {
          "output_type": "stream",
          "text": [
            "Esse print será lido\n",
            "Esse print será lido\n",
            "1\n"
          ],
          "name": "stdout"
        }
      ]
    },
    {
      "cell_type": "code",
      "metadata": {
        "colab": {
          "base_uri": "https://localhost:8080/"
        },
        "id": "Y2bNIvxwXx8V",
        "outputId": "67cb3419-922a-4d5e-a7fb-8836bd933104"
      },
      "source": [
        "def exibir_dados(dado):\r\n",
        "  print(dado)\r\n",
        "  print(5)\r\n",
        "  print(\"Dentro do def\")\r\n",
        "\r\n",
        "print(\"Fora do def\")\r\n",
        "\r\n",
        "exibir_dados(\"dado no final do código\")"
      ],
      "execution_count": 47,
      "outputs": [
        {
          "output_type": "stream",
          "text": [
            "Fora do def\n",
            "dado no final do código\n",
            "5\n",
            "Dentro do def\n"
          ],
          "name": "stdout"
        }
      ]
    },
    {
      "cell_type": "markdown",
      "metadata": {
        "id": "wfpkBxlce2il"
      },
      "source": [
        "# Exercício 2 - Input de Informações \r\n",
        "Objetivo: Receber dados do usuário, trabalhar com os valores e exibir para o usuário.\r\n",
        "\r\n",
        "Dificuldade: Principiante\r\n",
        "\r\n",
        "1 - Crie um programa que receba do usuário seu nome, idade e gênero;\r\n",
        "\r\n",
        "2 - Exiba na tela seguinte mensagem: \"Olá, {nome}, você possui {idade} anos de idade e é do gênero {genero}.\";\r\n",
        "\r\n",
        "3 - Exiba também: \"Já pensou no que você fará no seu aniversário de {idade + 1} anos?\".\r\n",
        "\r\n",
        "Adicionando uma pimentinha extra: \"Se o usuário digitar idade 1, exiba apenas \"ano\" em vez de \"anos\". \"\"\""
      ]
    },
    {
      "cell_type": "code",
      "metadata": {
        "colab": {
          "base_uri": "https://localhost:8080/"
        },
        "id": "VQeVCH5Xfpd6",
        "outputId": "b8f8b9d3-6ea2-4200-a3a0-e0523cc54e93"
      },
      "source": [
        "nome = input(\"Digite seu nome: \")\r\n",
        "idade = int(input(\"Digite sua idade: \"))\r\n",
        "genero = input(\"Digite seu gênero: \")\r\n",
        "if idade >= 1:\r\n",
        "  print (f\"Olá, {nome}! Você possui {idade} anos de idade e é do gênero {genero}.\")\r\n",
        "else:\r\n",
        "  print (f\"Olá, {nome}! Você possui {idade} ano de idade e é do gênero {genero}.\")\r\n",
        "print (f\"Você já pensou no que fará no seu aniversário de {idade+1} anos?\")\r\n"
      ],
      "execution_count": 70,
      "outputs": [
        {
          "output_type": "stream",
          "text": [
            "Digite seu nome: Miguel\n",
            "Digite sua idade: 5\n",
            "Digite seu gênero: masculino\n",
            "Olá, Miguel! Você possui 5 anos de idade e é do gênero masculino.\n",
            "Você já pensou no que fará no seu aniversário de 6 anos?\n"
          ],
          "name": "stdout"
        }
      ]
    }
  ]
}